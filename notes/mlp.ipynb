{
  "nbformat": 4,
  "nbformat_minor": 0,
  "metadata": {
    "colab": {
      "provenance": [],
      "collapsed_sections": [
        "d4WJ87-lBeNY",
        "HJ4F-phKNWat",
        "vIi3K6nvLiV1",
        "u22-CAl9Jc8w",
        "iw1qaniZJzqf",
        "xkStLsM8ODFZ"
      ]
    },
    "kernelspec": {
      "name": "python3",
      "display_name": "Python 3"
    },
    "language_info": {
      "name": "python"
    }
  },
  "cells": [
    {
      "cell_type": "markdown",
      "source": [
        "## Multilayer Perceptron\n",
        "\n",
        "**References:**\n",
        "1. [Building makemore Part 2: MLP](https://www.youtube.com/watch?v=TCH_1BHY58I&t=30s&ab_channel=AndrejKarpathy)\n",
        "\n",
        "2. [Bengio et al. 2003 MLP language model paper](https://www.jmlr.org/papers/volume3/bengio03a/bengio03a.pdf)\n"
      ],
      "metadata": {
        "id": "d4WJ87-lBeNY"
      }
    },
    {
      "cell_type": "code",
      "source": [
        "import torch\n",
        "import torch.nn.functional as F\n",
        "import matplotlib.pyplot as plt"
      ],
      "metadata": {
        "id": "lrAo3mL6HWzm"
      },
      "execution_count": 2,
      "outputs": []
    },
    {
      "cell_type": "code",
      "source": [
        "!wget https://raw.githubusercontent.com/karpathy/makemore/master/names.txt"
      ],
      "metadata": {
        "id": "tuE430P9Hh_P",
        "colab": {
          "base_uri": "https://localhost:8080/"
        },
        "outputId": "d815d9b9-f574-430f-f729-d99182136ff9"
      },
      "execution_count": 3,
      "outputs": [
        {
          "output_type": "stream",
          "name": "stdout",
          "text": [
            "--2022-11-28 10:23:08--  https://raw.githubusercontent.com/karpathy/makemore/master/names.txt\n",
            "Resolving raw.githubusercontent.com (raw.githubusercontent.com)... 185.199.108.133, 185.199.109.133, 185.199.110.133, ...\n",
            "Connecting to raw.githubusercontent.com (raw.githubusercontent.com)|185.199.108.133|:443... connected.\n",
            "HTTP request sent, awaiting response... 200 OK\n",
            "Length: 228145 (223K) [text/plain]\n",
            "Saving to: ‘names.txt’\n",
            "\n",
            "names.txt           100%[===================>] 222.80K  --.-KB/s    in 0.03s   \n",
            "\n",
            "2022-11-28 10:23:08 (8.34 MB/s) - ‘names.txt’ saved [228145/228145]\n",
            "\n"
          ]
        }
      ]
    },
    {
      "cell_type": "markdown",
      "source": [
        "## Load data"
      ],
      "metadata": {
        "id": "HJ4F-phKNWat"
      }
    },
    {
      "cell_type": "code",
      "execution_count": 4,
      "metadata": {
        "id": "TcQ-5Du5Bcs9"
      },
      "outputs": [],
      "source": [
        "words = open(\"names.txt\", \"r\").read().splitlines()"
      ]
    },
    {
      "cell_type": "code",
      "source": [
        "chars = sorted(list(set(\"\".join(words))))\n",
        "stoi = {s:idx + 1 for idx, s in enumerate(chars)}\n",
        "stoi[\".\"] = 0\n",
        "itos = {idx: s for s, idx in stoi.items()}"
      ],
      "metadata": {
        "id": "-4JLA3W0HmSH"
      },
      "execution_count": 5,
      "outputs": []
    },
    {
      "cell_type": "code",
      "source": [
        "[0] * 3"
      ],
      "metadata": {
        "colab": {
          "base_uri": "https://localhost:8080/"
        },
        "id": "zMJttb4WIfMK",
        "outputId": "e3c431b7-580e-4da3-cf46-c3027f9ae328"
      },
      "execution_count": 6,
      "outputs": [
        {
          "output_type": "execute_result",
          "data": {
            "text/plain": [
              "[0, 0, 0]"
            ]
          },
          "metadata": {},
          "execution_count": 6
        }
      ]
    },
    {
      "cell_type": "markdown",
      "source": [
        "## Network architecture\n",
        "\n",
        "We will be implementing the following network proposed in the paper [2]."
      ],
      "metadata": {
        "id": "vIi3K6nvLiV1"
      }
    },
    {
      "cell_type": "markdown",
      "source": [
        "**Idea:**\n",
        "\n",
        "In [2] they propose a word level language model, i.e they predict the next word given a set of k words. Each word is represented or embedded as a 30 dimensional vector (i.e a point in the 30 dimensional space). Initially this words are spread out randomly, using backpropagation we tune the embeddings (i.e the points will move around the 30d space during training). Our goal is to cluster the words of similar meaning close to each other. During training we maximuize the log likelihood on training data (i.e given a set of words x_i = [w1, w2, w3, .., wk] maximize the probability of P(y_hat = y_i)).\n",
        "\n",
        "**Why does it work ?**\n",
        "\n",
        "Suppose that we wan't to predict the next word for the following sentance: *the dog was running in a <?>*.\n",
        "\n",
        "Now suppose we never saw this sentence during training, but we saw the following sentence: *a cat is running in the room*.\n",
        "The sentences are not exactly the same, but it may happen that the words *the* and *a* and *dog* and *cat* are close in the 30 dimensional space (i.e they are often used in the same context). The network can transfer knowledge through the embedding space and predict the next word of an unseen sentence.\n"
      ],
      "metadata": {
        "id": "spPcJWbKrEk-"
      }
    },
    {
      "cell_type": "markdown",
      "source": [
        "![mlp.png](data:image/png;base64,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)"
      ],
      "metadata": {
        "id": "-LAkAlG8Lqc8"
      }
    },
    {
      "cell_type": "markdown",
      "source": [
        "**Architecure:**\n",
        "\n",
        "1. At the bottom we have a set of three characters (indicies of characters).\n",
        "2. First we perform the embedding using the parameter matrix C, i.e we simply index the embedding vector in C using the three character indices. \n",
        "3. We have a fully connected layer between each embedding and the tanh layer\n",
        "4. Finally we have another fully connected layer which applies the softmax function such that we get the probability distribution over the predicted (next) characters.\n",
        "\n",
        "**Parameters** are the parameters of the lookup table C, parameters of the hidden layer (weights and biases) and parameters of the last layer (weights and biases)."
      ],
      "metadata": {
        "id": "0l5Wuys3Ltgw"
      }
    },
    {
      "cell_type": "markdown",
      "source": [
        "## Generate training data\n",
        "\n",
        "input to the network is the tensor x which is of shape (num_samples, block_size) where block_size is the number of characters used to predict the next one.\n",
        "\n",
        "e.g block_size=3\n",
        "\n",
        "x[i] = [0, 12, 4]\n",
        "\n",
        "y[i] = [2]"
      ],
      "metadata": {
        "id": "u22-CAl9Jc8w"
      }
    },
    {
      "cell_type": "code",
      "source": [
        "def build_dataset(words):  \n",
        "    X, Y = [], []\n",
        "    for w in words:\n",
        "        #print(w)\n",
        "        context = [0] * block_size\n",
        "        for ch in w + '.':\n",
        "            ix = stoi[ch]\n",
        "            X.append(context)\n",
        "            Y.append(ix)\n",
        "            #print(''.join(itos[i] for i in context), '--->', itos[ix])\n",
        "            context = context[1:] + [ix] # crop and append\n",
        "\n",
        "    X = torch.tensor(X)\n",
        "    Y = torch.tensor(Y)\n",
        "    print(X.shape, Y.shape)\n",
        "    return X, Y"
      ],
      "metadata": {
        "id": "g-pZjKmUHoBB"
      },
      "execution_count": 80,
      "outputs": []
    },
    {
      "cell_type": "code",
      "source": [
        "x, y = build_dataset(words)"
      ],
      "metadata": {
        "colab": {
          "base_uri": "https://localhost:8080/"
        },
        "id": "s-8zcI7h20ql",
        "outputId": "9cedf228-0352-4ef6-c5fa-93c628ff1a69"
      },
      "execution_count": 81,
      "outputs": [
        {
          "output_type": "stream",
          "name": "stdout",
          "text": [
            "torch.Size([228146, 3]) torch.Size([228146])\n"
          ]
        }
      ]
    },
    {
      "cell_type": "code",
      "source": [
        "# Number of characters to take to predict the next one.\n",
        "block_size = 3\n",
        "x, y = [], []\n",
        "\n",
        "# Iterate over words\n",
        "for w in words:\n",
        "    context = [0 for _ in range(block_size)]\n",
        "    \n",
        "    for ch in w + \".\":\n",
        "        idx = stoi[ch]\n",
        "        x.append(context)\n",
        "        y.append(idx)\n",
        "        context = context[1: ] + [idx]\n",
        "\n",
        "x = torch.tensor(x)\n",
        "y = torch.tensor(y)"
      ],
      "metadata": {
        "id": "dOFfxdcjITpr"
      },
      "execution_count": 8,
      "outputs": []
    },
    {
      "cell_type": "code",
      "source": [
        "x.shape"
      ],
      "metadata": {
        "colab": {
          "base_uri": "https://localhost:8080/"
        },
        "id": "UvzpVCG1JZlG",
        "outputId": "0d1d45da-7aa7-4a6f-d0d9-d14474a5d5b2"
      },
      "execution_count": 9,
      "outputs": [
        {
          "output_type": "execute_result",
          "data": {
            "text/plain": [
              "torch.Size([228146, 3])"
            ]
          },
          "metadata": {},
          "execution_count": 9
        }
      ]
    },
    {
      "cell_type": "code",
      "source": [
        "y.shape"
      ],
      "metadata": {
        "colab": {
          "base_uri": "https://localhost:8080/"
        },
        "id": "JlSbnRrFJall",
        "outputId": "7f0b8535-5881-4066-ab0b-f3307d969ab6"
      },
      "execution_count": 10,
      "outputs": [
        {
          "output_type": "execute_result",
          "data": {
            "text/plain": [
              "torch.Size([228146])"
            ]
          },
          "metadata": {},
          "execution_count": 10
        }
      ]
    },
    {
      "cell_type": "markdown",
      "source": [
        "## Implementing the embedding lookup table"
      ],
      "metadata": {
        "id": "iw1qaniZJzqf"
      }
    },
    {
      "cell_type": "code",
      "source": [
        "# We'll start by using 3 numbers to embedd each of the 27 characters.\n",
        "embedding_size = 2\n",
        "C = torch.randn((27, embedding_size))\n",
        "C"
      ],
      "metadata": {
        "id": "90_GW_V3J2ou",
        "colab": {
          "base_uri": "https://localhost:8080/"
        },
        "outputId": "1eb3b1d1-9e47-4f90-f94b-f6558d35a1d8"
      },
      "execution_count": 11,
      "outputs": [
        {
          "output_type": "execute_result",
          "data": {
            "text/plain": [
              "tensor([[-1.1832, -1.1540],\n",
              "        [-1.2461,  1.9495],\n",
              "        [ 1.3371, -0.7805],\n",
              "        [ 0.7541,  0.7355],\n",
              "        [ 1.0808, -1.9826],\n",
              "        [-0.1461, -1.2939],\n",
              "        [ 0.0120,  0.3250],\n",
              "        [-0.2209,  0.1022],\n",
              "        [-0.7349,  0.5654],\n",
              "        [ 1.5051,  0.4556],\n",
              "        [ 1.1300,  0.6029],\n",
              "        [-1.1043, -0.0889],\n",
              "        [-0.1916, -1.6474],\n",
              "        [-2.2154,  0.3648],\n",
              "        [-0.0035, -0.8064],\n",
              "        [ 0.5228, -0.2965],\n",
              "        [-1.1038,  0.8034],\n",
              "        [-0.8864, -0.2148],\n",
              "        [ 0.0945, -1.0215],\n",
              "        [-1.0623,  0.5789],\n",
              "        [-1.5308, -0.6074],\n",
              "        [ 3.4938, -0.4661],\n",
              "        [ 0.0999,  0.3395],\n",
              "        [-0.1470,  1.0448],\n",
              "        [ 1.5497,  0.8032],\n",
              "        [ 0.4496, -1.3620],\n",
              "        [ 1.8172, -0.5378]])"
            ]
          },
          "metadata": {},
          "execution_count": 11
        }
      ]
    },
    {
      "cell_type": "markdown",
      "source": [
        "**Embedding a single integer**\n",
        "\n",
        "we can simply index into the embedding lookup table, or use matrix multiplication with one hot encoded integer. We could use either of the two approaches, this time we will stick with the indexing approach."
      ],
      "metadata": {
        "id": "YJLHBbS-KuDB"
      }
    },
    {
      "cell_type": "code",
      "source": [
        "C[5]"
      ],
      "metadata": {
        "colab": {
          "base_uri": "https://localhost:8080/"
        },
        "id": "LJnPUhQoKXf6",
        "outputId": "b6641004-1767-4349-9abe-5913f1f47a15"
      },
      "execution_count": 12,
      "outputs": [
        {
          "output_type": "execute_result",
          "data": {
            "text/plain": [
              "tensor([-0.1461, -1.2939])"
            ]
          },
          "metadata": {},
          "execution_count": 12
        }
      ]
    },
    {
      "cell_type": "code",
      "source": [
        "F.one_hot(torch.tensor(5), num_classes=27).float() @ C"
      ],
      "metadata": {
        "colab": {
          "base_uri": "https://localhost:8080/"
        },
        "id": "cZ5IpEgYK1B-",
        "outputId": "1b8b6f29-8597-49c6-9141-7fd2f439e55d"
      },
      "execution_count": 13,
      "outputs": [
        {
          "output_type": "execute_result",
          "data": {
            "text/plain": [
              "tensor([-0.1461, -1.2939])"
            ]
          },
          "metadata": {},
          "execution_count": 13
        }
      ]
    },
    {
      "cell_type": "markdown",
      "source": [
        "**Embedding a single example from the dataset**"
      ],
      "metadata": {
        "id": "ZzeczQLuNOLr"
      }
    },
    {
      "cell_type": "code",
      "source": [
        "C[x[0]]"
      ],
      "metadata": {
        "colab": {
          "base_uri": "https://localhost:8080/"
        },
        "id": "TIAAEDzZK6k0",
        "outputId": "d93c1f43-fbd5-4975-9878-1cbe8bf4a55c"
      },
      "execution_count": 14,
      "outputs": [
        {
          "output_type": "execute_result",
          "data": {
            "text/plain": [
              "tensor([[-1.1832, -1.1540],\n",
              "        [-1.1832, -1.1540],\n",
              "        [-1.1832, -1.1540]])"
            ]
          },
          "metadata": {},
          "execution_count": 14
        }
      ]
    },
    {
      "cell_type": "markdown",
      "source": [
        "**Embedding the whole dataset**\n",
        "\n",
        "Each sample is represented by a 3 x 2 matrix."
      ],
      "metadata": {
        "id": "zREh5GTiNdl0"
      }
    },
    {
      "cell_type": "code",
      "source": [
        "emb = C[x]\n",
        "emb.shape"
      ],
      "metadata": {
        "colab": {
          "base_uri": "https://localhost:8080/"
        },
        "id": "jPdub3pJNaa1",
        "outputId": "37dd9aac-070d-4c1f-b799-361f7382e4fa"
      },
      "execution_count": 15,
      "outputs": [
        {
          "output_type": "execute_result",
          "data": {
            "text/plain": [
              "torch.Size([228146, 3, 2])"
            ]
          },
          "metadata": {},
          "execution_count": 15
        }
      ]
    },
    {
      "cell_type": "code",
      "source": [
        "emb[0]"
      ],
      "metadata": {
        "colab": {
          "base_uri": "https://localhost:8080/"
        },
        "id": "efVJgaQqNgAV",
        "outputId": "92cd3829-0b78-4f57-e6f6-506bd63959db"
      },
      "execution_count": 16,
      "outputs": [
        {
          "output_type": "execute_result",
          "data": {
            "text/plain": [
              "tensor([[-1.1832, -1.1540],\n",
              "        [-1.1832, -1.1540],\n",
              "        [-1.1832, -1.1540]])"
            ]
          },
          "metadata": {},
          "execution_count": 16
        }
      ]
    },
    {
      "cell_type": "markdown",
      "source": [
        "## Constructing the hidden layer"
      ],
      "metadata": {
        "id": "xkStLsM8ODFZ"
      }
    },
    {
      "cell_type": "code",
      "source": [
        "block_size"
      ],
      "metadata": {
        "colab": {
          "base_uri": "https://localhost:8080/"
        },
        "id": "9F_t9ie4PJ1h",
        "outputId": "f1efd9a5-cc45-4c83-d94e-9b6f86eb6f82"
      },
      "execution_count": 17,
      "outputs": [
        {
          "output_type": "execute_result",
          "data": {
            "text/plain": [
              "3"
            ]
          },
          "metadata": {},
          "execution_count": 17
        }
      ]
    },
    {
      "cell_type": "code",
      "source": [
        "embedding_size"
      ],
      "metadata": {
        "colab": {
          "base_uri": "https://localhost:8080/"
        },
        "id": "gNr0ZoNWPI0i",
        "outputId": "e0ebcb15-1f0e-453e-aec9-ab4ae6bac4b6"
      },
      "execution_count": 18,
      "outputs": [
        {
          "output_type": "execute_result",
          "data": {
            "text/plain": [
              "2"
            ]
          },
          "metadata": {},
          "execution_count": 18
        }
      ]
    },
    {
      "cell_type": "code",
      "source": [
        "w1 = torch.randn((block_size * embedding_size, \n",
        "                100) # 100 is a hyperparamter\n",
        ")\n",
        "\n",
        "b1 = torch.randn(100)"
      ],
      "metadata": {
        "id": "FAcaJuwDN3D_"
      },
      "execution_count": 19,
      "outputs": []
    },
    {
      "cell_type": "code",
      "source": [
        "emb @ w1 + b1"
      ],
      "metadata": {
        "colab": {
          "base_uri": "https://localhost:8080/",
          "height": 167
        },
        "id": "d_BfeqXSPPfN",
        "outputId": "2056cfd8-6d07-4745-dc23-683ec93e18b2"
      },
      "execution_count": 20,
      "outputs": [
        {
          "output_type": "error",
          "ename": "RuntimeError",
          "evalue": "ignored",
          "traceback": [
            "\u001b[0;31m---------------------------------------------------------------------------\u001b[0m",
            "\u001b[0;31mRuntimeError\u001b[0m                              Traceback (most recent call last)",
            "\u001b[0;32m<ipython-input-20-1498f270eab1>\u001b[0m in \u001b[0;36m<module>\u001b[0;34m\u001b[0m\n\u001b[0;32m----> 1\u001b[0;31m \u001b[0memb\u001b[0m \u001b[0;34m@\u001b[0m \u001b[0mw1\u001b[0m \u001b[0;34m+\u001b[0m \u001b[0mb1\u001b[0m\u001b[0;34m\u001b[0m\u001b[0;34m\u001b[0m\u001b[0m\n\u001b[0m",
            "\u001b[0;31mRuntimeError\u001b[0m: mat1 and mat2 shapes cannot be multiplied (684438x2 and 6x100)"
          ]
        }
      ]
    },
    {
      "cell_type": "markdown",
      "source": [
        "**Reshapeing the emb matrix**\n",
        "\n",
        "Our goal is to reshape the emb vector (m, 3, 2) into a vector of shape (m, 6)."
      ],
      "metadata": {
        "id": "teZWDa_2SbWs"
      }
    },
    {
      "cell_type": "code",
      "source": [
        "# tuple of all block_size dimensions\n",
        "for i in range(block_size):\n",
        "    print(torch.unbind(emb, dim=1)[i].shape)"
      ],
      "metadata": {
        "colab": {
          "base_uri": "https://localhost:8080/"
        },
        "id": "ZwVCNuKuRzIi",
        "outputId": "1c1fc142-36a5-4693-c544-0901051799bd"
      },
      "execution_count": 21,
      "outputs": [
        {
          "output_type": "stream",
          "name": "stdout",
          "text": [
            "torch.Size([228146, 2])\n",
            "torch.Size([228146, 2])\n",
            "torch.Size([228146, 2])\n"
          ]
        }
      ]
    },
    {
      "cell_type": "code",
      "source": [
        "t1 = torch.unbind(emb, dim=1)\n",
        "print(t1[0][:1])\n",
        "print(t1[1][:1])\n",
        "print(t1[1][:1])"
      ],
      "metadata": {
        "colab": {
          "base_uri": "https://localhost:8080/"
        },
        "id": "5Owaey4EUfnV",
        "outputId": "9093ab11-409b-4b61-b2d1-fafba47ed2f9"
      },
      "execution_count": 22,
      "outputs": [
        {
          "output_type": "stream",
          "name": "stdout",
          "text": [
            "tensor([[-1.1832, -1.1540]])\n",
            "tensor([[-1.1832, -1.1540]])\n",
            "tensor([[-1.1832, -1.1540]])\n"
          ]
        }
      ]
    },
    {
      "cell_type": "code",
      "source": [
        "t2 = torch.cat(torch.unbind(emb, dim=1), dim=1)\n",
        "t2[0, :]"
      ],
      "metadata": {
        "colab": {
          "base_uri": "https://localhost:8080/"
        },
        "id": "vAi2eIczRi4W",
        "outputId": "55d692d3-1904-41a9-a844-ad175730efba"
      },
      "execution_count": 23,
      "outputs": [
        {
          "output_type": "execute_result",
          "data": {
            "text/plain": [
              "tensor([-1.1832, -1.1540, -1.1832, -1.1540, -1.1832, -1.1540])"
            ]
          },
          "metadata": {},
          "execution_count": 23
        }
      ]
    },
    {
      "cell_type": "markdown",
      "source": [
        "The most efficient way of doing this:"
      ],
      "metadata": {
        "id": "B6KFwCAqSyJH"
      }
    },
    {
      "cell_type": "code",
      "source": [
        "m = emb.shape[0]\n",
        "emb.view(m, 6)"
      ],
      "metadata": {
        "colab": {
          "base_uri": "https://localhost:8080/"
        },
        "id": "Gpr4tfCsSsmk",
        "outputId": "747a4bee-8180-4c34-89d8-a7add4da4034"
      },
      "execution_count": 24,
      "outputs": [
        {
          "output_type": "execute_result",
          "data": {
            "text/plain": [
              "tensor([[-1.1832, -1.1540, -1.1832, -1.1540, -1.1832, -1.1540],\n",
              "        [-1.1832, -1.1540, -1.1832, -1.1540, -0.1461, -1.2939],\n",
              "        [-1.1832, -1.1540, -0.1461, -1.2939, -2.2154,  0.3648],\n",
              "        ...,\n",
              "        [ 1.8172, -0.5378,  1.8172, -0.5378,  0.4496, -1.3620],\n",
              "        [ 1.8172, -0.5378,  0.4496, -1.3620,  1.8172, -0.5378],\n",
              "        [ 0.4496, -1.3620,  1.8172, -0.5378,  1.5497,  0.8032]])"
            ]
          },
          "metadata": {},
          "execution_count": 24
        }
      ]
    },
    {
      "cell_type": "code",
      "source": [
        "emb.view(m, 6) == torch.cat(torch.unbind(emb, dim=1), dim=1)"
      ],
      "metadata": {
        "colab": {
          "base_uri": "https://localhost:8080/"
        },
        "id": "Obtzul2fS7oT",
        "outputId": "6b55b7ff-57bb-4b80-884e-1fed9ee17814"
      },
      "execution_count": 25,
      "outputs": [
        {
          "output_type": "execute_result",
          "data": {
            "text/plain": [
              "tensor([[True, True, True, True, True, True],\n",
              "        [True, True, True, True, True, True],\n",
              "        [True, True, True, True, True, True],\n",
              "        ...,\n",
              "        [True, True, True, True, True, True],\n",
              "        [True, True, True, True, True, True],\n",
              "        [True, True, True, True, True, True]])"
            ]
          },
          "metadata": {},
          "execution_count": 25
        }
      ]
    },
    {
      "cell_type": "markdown",
      "source": [
        "Long story short:"
      ],
      "metadata": {
        "id": "8NUTeYr8TBCV"
      }
    },
    {
      "cell_type": "code",
      "source": [
        "h = torch.tanh(emb.view(emb.shape[0], 6) @ w1 + b1)\n",
        "h.shape"
      ],
      "metadata": {
        "colab": {
          "base_uri": "https://localhost:8080/"
        },
        "id": "K0Wi0ueZS-OR",
        "outputId": "3ece577a-614d-4ea6-dd98-d1af04b82375"
      },
      "execution_count": 26,
      "outputs": [
        {
          "output_type": "execute_result",
          "data": {
            "text/plain": [
              "torch.Size([228146, 100])"
            ]
          },
          "metadata": {},
          "execution_count": 26
        }
      ]
    },
    {
      "cell_type": "markdown",
      "source": [
        "## Create the final layer"
      ],
      "metadata": {
        "id": "QSrlIPnzVetf"
      }
    },
    {
      "cell_type": "code",
      "source": [
        "w2 = torch.randn((100, 27))\n",
        "b2 = torch.randn(27)"
      ],
      "metadata": {
        "id": "QuUGwiYRTFol"
      },
      "execution_count": 27,
      "outputs": []
    },
    {
      "cell_type": "code",
      "source": [
        "logits = h @ w2 + b2\n",
        "logits.shape"
      ],
      "metadata": {
        "colab": {
          "base_uri": "https://localhost:8080/"
        },
        "id": "UEnO6PtuV8Fm",
        "outputId": "82c8b4fc-89ab-4898-cc36-5653f880a9f2"
      },
      "execution_count": 28,
      "outputs": [
        {
          "output_type": "execute_result",
          "data": {
            "text/plain": [
              "torch.Size([228146, 27])"
            ]
          },
          "metadata": {},
          "execution_count": 28
        }
      ]
    },
    {
      "cell_type": "code",
      "source": [
        "counts = logits.exp()\n",
        "probs = counts / counts.sum(1, keepdims=True)"
      ],
      "metadata": {
        "id": "QGgqP5EOXTaZ"
      },
      "execution_count": 29,
      "outputs": []
    },
    {
      "cell_type": "code",
      "source": [
        "# each row sums to one\n",
        "probs.sum(dim=1)"
      ],
      "metadata": {
        "colab": {
          "base_uri": "https://localhost:8080/"
        },
        "id": "hwiUvrqiXY_T",
        "outputId": "18ecdc0a-e842-4267-a2a1-cba3fa2f5e6e"
      },
      "execution_count": 30,
      "outputs": [
        {
          "output_type": "execute_result",
          "data": {
            "text/plain": [
              "tensor([1.0000, 1.0000, 1.0000,  ..., 1.0000, 1.0000, 1.0000])"
            ]
          },
          "metadata": {},
          "execution_count": 30
        }
      ]
    },
    {
      "cell_type": "code",
      "source": [
        "torch.arange(emb.shape[0])"
      ],
      "metadata": {
        "colab": {
          "base_uri": "https://localhost:8080/"
        },
        "id": "_2WCOSm0YZdV",
        "outputId": "5e9c2429-3b70-4c7a-cfb8-7c6c1cdcb460"
      },
      "execution_count": 31,
      "outputs": [
        {
          "output_type": "execute_result",
          "data": {
            "text/plain": [
              "tensor([     0,      1,      2,  ..., 228143, 228144, 228145])"
            ]
          },
          "metadata": {},
          "execution_count": 31
        }
      ]
    },
    {
      "cell_type": "markdown",
      "source": [
        "**recall negative log likelihood**"
      ],
      "metadata": {
        "id": "4G-0fukhbno4"
      }
    },
    {
      "cell_type": "code",
      "source": [
        "probs[torch.arange(emb.shape[0]), y].shape"
      ],
      "metadata": {
        "colab": {
          "base_uri": "https://localhost:8080/"
        },
        "id": "HYDSRz-eYIZj",
        "outputId": "8273ec45-09a7-4992-daa8-cf17a388c920"
      },
      "execution_count": 32,
      "outputs": [
        {
          "output_type": "execute_result",
          "data": {
            "text/plain": [
              "torch.Size([228146])"
            ]
          },
          "metadata": {},
          "execution_count": 32
        }
      ]
    },
    {
      "cell_type": "code",
      "source": [
        "# Negative log likelihood\n",
        "loss = -probs[torch.arange(emb.shape[0]), y].log().mean()"
      ],
      "metadata": {
        "id": "os402ARAXsgD"
      },
      "execution_count": 33,
      "outputs": []
    },
    {
      "cell_type": "markdown",
      "source": [
        "## Putting it all together\n",
        "\n"
      ],
      "metadata": {
        "id": "fKOVqNJkYul8"
      }
    },
    {
      "cell_type": "markdown",
      "source": [
        "![Fullnet2.jpg](data:image/jpeg;base64,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)"
      ],
      "metadata": {
        "id": "BZxB2AYOvR4f"
      }
    },
    {
      "cell_type": "code",
      "source": [
        "g = torch.Generator().manual_seed(2147483647)\n",
        "c = torch.randn((27, 2), generator=g)\n",
        "w1 = torch.randn((6, 100), generator=g)\n",
        "b1 = torch.randn(100, generator=g)\n",
        "w2 = torch.randn((100, 27), generator=g)\n",
        "b2 = torch.randn(27, generator=g)\n",
        "params = [c, w1, b1, w2, b2]"
      ],
      "metadata": {
        "id": "Zupj5lLcYCDV"
      },
      "execution_count": 34,
      "outputs": []
    },
    {
      "cell_type": "code",
      "source": [
        "# number of parameters to optimize\n",
        "sum(p.nelement() for p in params)"
      ],
      "metadata": {
        "colab": {
          "base_uri": "https://localhost:8080/"
        },
        "id": "-tEnGfa_ZpWV",
        "outputId": "ba40f6bd-b01b-48c3-da8d-ae461cec9b0e"
      },
      "execution_count": 35,
      "outputs": [
        {
          "output_type": "execute_result",
          "data": {
            "text/plain": [
              "3481"
            ]
          },
          "metadata": {},
          "execution_count": 35
        }
      ]
    },
    {
      "cell_type": "markdown",
      "source": [
        "**Note that here we use the cross_entropy and not the negative log likelihood.**\n",
        "\n",
        "Reasons for this are as follows:\n",
        "1. **cross_entropy** is a higher level implementation so we have a **single high gradient** to compute for it, log likehood is composed of many little operations (exp, log, ..) which we have to compute gradients for. So **cross_entropy is more efficient to compute.**\n",
        "2. cross_entropy **is also more numerically stable**."
      ],
      "metadata": {
        "id": "jwQi8rYhbHpN"
      }
    },
    {
      "cell_type": "code",
      "source": [
        "emd = c[x]\n",
        "h = torch.tanh(emd.view(emd.shape[0], 6) @ w1 + b1)\n",
        "logits = h @ w2 + b2\n",
        "loss = F.cross_entropy(logits, y)\n",
        "loss"
      ],
      "metadata": {
        "colab": {
          "base_uri": "https://localhost:8080/"
        },
        "id": "arklU5uHY5Sd",
        "outputId": "338cfcf4-0a21-4e56-a1ba-88f541c99daf"
      },
      "execution_count": 36,
      "outputs": [
        {
          "output_type": "execute_result",
          "data": {
            "text/plain": [
              "tensor(19.5052)"
            ]
          },
          "metadata": {},
          "execution_count": 36
        }
      ]
    },
    {
      "cell_type": "markdown",
      "source": [
        "**Problem with log likelihood:** We see that for relatively small values (e.g 100) we get a infinite value when taking the exp of that value."
      ],
      "metadata": {
        "id": "Y4du5a5Lb0DT"
      }
    },
    {
      "cell_type": "code",
      "source": [
        "logists = torch.tensor([-100, -3, 0, 100])\n",
        "counts = logists.exp()\n",
        "print(counts)\n",
        "probas = counts / counts.sum()\n",
        "print(probas)"
      ],
      "metadata": {
        "colab": {
          "base_uri": "https://localhost:8080/"
        },
        "id": "MH-BOnC8Z8ip",
        "outputId": "9beb912f-7165-4f6f-e5e0-b9f19c631540"
      },
      "execution_count": 37,
      "outputs": [
        {
          "output_type": "stream",
          "name": "stdout",
          "text": [
            "tensor([3.7835e-44, 4.9787e-02, 1.0000e+00,        inf])\n",
            "tensor([0., 0., 0., nan])\n"
          ]
        }
      ]
    },
    {
      "cell_type": "markdown",
      "source": [
        "PyTorch handles this by subtracting a constant value from the logits, this does not effect the outcume, since we are normalizing the output."
      ],
      "metadata": {
        "id": "V2BwIcCAwaCT"
      }
    },
    {
      "cell_type": "code",
      "source": [
        "OFFSET_VAL = 100\n",
        "\n",
        "logists = torch.tensor([-100, -3, 0, 100]) - OFFSET_VAL\n",
        "counts = logists.exp()\n",
        "print(counts)\n",
        "probas = counts / counts.sum()\n",
        "print(probas)"
      ],
      "metadata": {
        "colab": {
          "base_uri": "https://localhost:8080/"
        },
        "id": "WD2dv3Lov-C2",
        "outputId": "58064e4b-de83-4667-c1ea-335337e4223a"
      },
      "execution_count": 38,
      "outputs": [
        {
          "output_type": "stream",
          "name": "stdout",
          "text": [
            "tensor([0.0000e+00, 1.4013e-45, 3.7835e-44, 1.0000e+00])\n",
            "tensor([0.0000e+00, 1.4013e-45, 3.7835e-44, 1.0000e+00])\n"
          ]
        }
      ]
    },
    {
      "cell_type": "markdown",
      "source": [
        "## Training the neural network"
      ],
      "metadata": {
        "id": "DFmDzyG1w4mK"
      }
    },
    {
      "cell_type": "markdown",
      "source": [
        "**Overfitting the first batch**"
      ],
      "metadata": {
        "id": "CygeA782zaTi"
      }
    },
    {
      "cell_type": "code",
      "source": [
        "BATCH_SIZE = 32\n",
        "x_batch = x[: BATCH_SIZE, :]\n",
        "y_batch = y[: BATCH_SIZE]\n",
        "x_batch.shape\n",
        "y_batch.shape"
      ],
      "metadata": {
        "colab": {
          "base_uri": "https://localhost:8080/"
        },
        "id": "hApsdLEvzfhH",
        "outputId": "6a2a0722-efff-4a1a-90cd-035c6623147e"
      },
      "execution_count": 60,
      "outputs": [
        {
          "output_type": "execute_result",
          "data": {
            "text/plain": [
              "torch.Size([32])"
            ]
          },
          "metadata": {},
          "execution_count": 60
        }
      ]
    },
    {
      "cell_type": "code",
      "source": [
        "LEARN_RATE = 0.1\n",
        "N_ITERS = 100\n",
        "\n",
        "g = torch.Generator().manual_seed(2147483647)\n",
        "c = torch.randn((27, 2), generator=g)\n",
        "w1 = torch.randn((6, 100), generator=g)\n",
        "b1 = torch.randn(100, generator=g)\n",
        "w2 = torch.randn((100, 27), generator=g)\n",
        "b2 = torch.randn(27, generator=g)\n",
        "params = [c, w1, b1, w2, b2]\n",
        "\n",
        "# Make sure to enable gradients!\n",
        "for p in params:\n",
        "    p.requires_grad = True\n",
        "\n",
        "# Training loop\n",
        "for k in range(N_ITERS):\n",
        "    # Forward pass\n",
        "    emb = c[x_batch]\n",
        "    h = torch.tanh(emb.view(-1, 6) @ w1 + b1)\n",
        "    logits = h @ w2 + b2\n",
        "    loss = F.cross_entropy(logits, y_batch)\n",
        "\n",
        "    # Backward pass\n",
        "\n",
        "    # Zero all of the gradietns\n",
        "    for p in params:\n",
        "        p.grad = None\n",
        "\n",
        "    loss.backward()\n",
        "\n",
        "    # Update the parameters\n",
        "    for p in params:\n",
        "        p.data = p.data - LEARN_RATE * p.grad\n",
        "\n",
        "print(f\"loss: {loss.item()}\")"
      ],
      "metadata": {
        "colab": {
          "base_uri": "https://localhost:8080/"
        },
        "id": "MbHukD9szcs1",
        "outputId": "d3fd7d49-9736-4c44-b06d-30f682a8035b"
      },
      "execution_count": 62,
      "outputs": [
        {
          "output_type": "stream",
          "name": "stdout",
          "text": [
            "loss: 0.3367388844490051\n"
          ]
        }
      ]
    },
    {
      "cell_type": "markdown",
      "source": [
        "**Inspect the predictions on the first batch of data**\n",
        "\n",
        "\n",
        "We are not able to overfit the batch because our data is ambiguous, i.e a set of three characters may map to more than one next character. In sample where we have a unique mapping (i.e unique input and unique output) we are able to overfit the outputs.\n",
        "\n",
        "e.g\n",
        "\n",
        "```\n",
        "x --> y\n",
        "... --> a\n",
        "... --> o\n",
        "... --> s\n",
        "```"
      ],
      "metadata": {
        "id": "HEHF6Bmzz9pW"
      }
    },
    {
      "cell_type": "code",
      "source": [
        "# Prediciton for the 0th sample\n",
        "logits[0, :]"
      ],
      "metadata": {
        "colab": {
          "base_uri": "https://localhost:8080/"
        },
        "id": "WUBfC9kV0QAO",
        "outputId": "c97644c0-4853-4f6c-f560-f4c36c390465"
      },
      "execution_count": 67,
      "outputs": [
        {
          "output_type": "execute_result",
          "data": {
            "text/plain": [
              "tensor([  5.6152,  11.3379,   6.1462,   3.8517,  -2.1464,  11.2813, -18.8963,\n",
              "          5.1576,  -4.0152,  11.3223,   6.4054,  -1.0649,   0.6911,   7.9035,\n",
              "          1.6204,  11.2467,   1.8672,   7.0337,  -0.7938,  11.3119,  -0.3728,\n",
              "          5.8304,   3.6406,  -5.9184,   7.7136,  -4.0840,   6.1745],\n",
              "       grad_fn=<SliceBackward0>)"
            ]
          },
          "metadata": {},
          "execution_count": 67
        }
      ]
    },
    {
      "cell_type": "code",
      "source": [
        "# Predictions for all samples\n",
        "logits.argmax(1)"
      ],
      "metadata": {
        "colab": {
          "base_uri": "https://localhost:8080/"
        },
        "id": "6MrkqEmrx3Ae",
        "outputId": "db647121-c987-40a7-acc3-21b4a90d71fd"
      },
      "execution_count": 68,
      "outputs": [
        {
          "output_type": "execute_result",
          "data": {
            "text/plain": [
              "tensor([ 1, 13, 13,  1,  0,  1, 12,  9, 22,  9,  1,  0,  1, 22,  1,  0,  1, 19,\n",
              "         1,  2,  5, 12, 12,  1,  0,  1, 15, 16,  8,  9,  1,  0])"
            ]
          },
          "metadata": {},
          "execution_count": 68
        }
      ]
    },
    {
      "cell_type": "code",
      "source": [
        "y_batch"
      ],
      "metadata": {
        "colab": {
          "base_uri": "https://localhost:8080/"
        },
        "id": "m8j4_Zjw0EGA",
        "outputId": "e01c7d40-be1b-4bf2-e386-0d6470a3886c"
      },
      "execution_count": 71,
      "outputs": [
        {
          "output_type": "execute_result",
          "data": {
            "text/plain": [
              "tensor([ 5, 13, 13,  1,  0, 15, 12,  9, 22,  9,  1,  0,  1, 22,  1,  0,  9, 19,\n",
              "         1,  2,  5, 12, 12,  1,  0, 19, 15, 16,  8,  9,  1,  0])"
            ]
          },
          "metadata": {},
          "execution_count": 71
        }
      ]
    },
    {
      "cell_type": "code",
      "source": [
        "logits.argmax(1) == y_batch"
      ],
      "metadata": {
        "colab": {
          "base_uri": "https://localhost:8080/"
        },
        "id": "pz1fKGIA0ZIT",
        "outputId": "cee24518-5653-4124-c1b3-795368734b07"
      },
      "execution_count": 72,
      "outputs": [
        {
          "output_type": "execute_result",
          "data": {
            "text/plain": [
              "tensor([False,  True,  True,  True,  True, False,  True,  True,  True,  True,\n",
              "         True,  True,  True,  True,  True,  True, False,  True,  True,  True,\n",
              "         True,  True,  True,  True,  True, False,  True,  True,  True,  True,\n",
              "         True,  True])"
            ]
          },
          "metadata": {},
          "execution_count": 72
        }
      ]
    },
    {
      "cell_type": "markdown",
      "source": [
        "**Train the whole network**\n",
        "\n",
        "We will use mini-batch gradient descent. Note that the direction of mini batch gradient is not as good as the direction of batch gradient but it allows us to perform more itterations, so we prefer it."
      ],
      "metadata": {
        "id": "WE1zWgXa1REl"
      }
    },
    {
      "cell_type": "code",
      "source": [
        "LEARN_RATE = 0.1\n",
        "BATCH_SIZE = 32\n",
        "N_ITERS = 1250\n",
        "\n",
        "g = torch.Generator().manual_seed(2147483647)\n",
        "c = torch.randn((27, 2), generator=g)\n",
        "w1 = torch.randn((6, 100), generator=g)\n",
        "b1 = torch.randn(100, generator=g)\n",
        "w2 = torch.randn((100, 27), generator=g)\n",
        "b2 = torch.randn(27, generator=g)\n",
        "params = [c, w1, b1, w2, b2]\n",
        "\n",
        "# Make sure to enable gradients!\n",
        "for p in params:\n",
        "    p.requires_grad = True\n",
        "\n",
        "# Training loop\n",
        "losses = []\n",
        "for k in range(N_ITERS):\n",
        "    # Perform mini-batch gradient descent\n",
        "    rand_idxs = torch.randint(0, x.shape[0], (BATCH_SIZE, ))\n",
        "    x_batch = x[rand_idxs]\n",
        "    y_batch = y[rand_idxs]\n",
        "\n",
        "    # Forward pass\n",
        "    emb = c[x_batch]\n",
        "    h = torch.tanh(emb.view(-1, 6) @ w1 + b1)\n",
        "    logits = h @ w2 + b2\n",
        "    loss = F.cross_entropy(logits, y_batch)\n",
        "    losses.append(loss.item())\n",
        "\n",
        "    # Backward pass\n",
        "\n",
        "    # Zero all of the gradietns\n",
        "    for p in params:\n",
        "        p.grad = None\n",
        "\n",
        "    loss.backward()\n",
        "\n",
        "    # Update the parameters\n",
        "    for p in params:\n",
        "        p.data = p.data - LEARN_RATE * p.grad\n",
        "\n",
        "print(f\"loss: {loss.item()}\")"
      ],
      "metadata": {
        "colab": {
          "base_uri": "https://localhost:8080/"
        },
        "id": "xgKMlMV60aoc",
        "outputId": "aea0bc32-99de-4440-ceb3-fd37efc6af37"
      },
      "execution_count": 88,
      "outputs": [
        {
          "output_type": "stream",
          "name": "stdout",
          "text": [
            "loss: 2.429121971130371\n"
          ]
        }
      ]
    },
    {
      "cell_type": "code",
      "source": [
        "rand_idxs = torch.randint(0, x.shape[0], (32, ))"
      ],
      "metadata": {
        "id": "5eJV_RN11cY-"
      },
      "execution_count": 89,
      "outputs": []
    },
    {
      "cell_type": "code",
      "source": [
        "emb = c[x]\n",
        "h = torch.tanh(emb.view(-1, 6) @ w1 + b1)\n",
        "logits = h @ w2 + b2\n",
        "loss = F.cross_entropy(logits, y)\n",
        "print(f\"loss (whole dataset): {loss}\")"
      ],
      "metadata": {
        "colab": {
          "base_uri": "https://localhost:8080/"
        },
        "id": "WZ9JFKS91mCE",
        "outputId": "4351e4ad-1287-42bb-9da8-c2f42dc50d01"
      },
      "execution_count": 90,
      "outputs": [
        {
          "output_type": "stream",
          "name": "stdout",
          "text": [
            "loss (whole dataset): 2.6382064819335938\n"
          ]
        }
      ]
    },
    {
      "cell_type": "markdown",
      "source": [
        "**Determening the learning rate**"
      ],
      "metadata": {
        "id": "eSsNThXM3bs_"
      }
    },
    {
      "cell_type": "code",
      "source": [
        "BATCH_SIZE = 32\n",
        "N_ITERS = 100\n",
        "\n",
        "g = torch.Generator().manual_seed(2147483647)\n",
        "c = torch.randn((27, 2), generator=g)\n",
        "w1 = torch.randn((6, 100), generator=g)\n",
        "b1 = torch.randn(100, generator=g)\n",
        "w2 = torch.randn((100, 27), generator=g)\n",
        "b2 = torch.randn(27, generator=g)\n",
        "params = [c, w1, b1, w2, b2]\n",
        "\n",
        "# Make sure to enable gradients!\n",
        "for p in params:\n",
        "    p.requires_grad = True\n",
        "\n",
        "# Training loop\n",
        "losses = {}\n",
        "for lr in [0.0001, 0.001, 0.1, 0.5, 1.0]:\n",
        "    losses[lr] = []\n",
        "    for k in range(N_ITERS):\n",
        "        # Perform mini-batch gradient descent\n",
        "        rand_idxs = torch.randint(0, x.shape[0], (BATCH_SIZE, ))\n",
        "        x_batch = x[rand_idxs]\n",
        "        y_batch = y[rand_idxs]\n",
        "\n",
        "        # Forward pass\n",
        "        emb = c[x_batch]\n",
        "        h = torch.tanh(emb.view(-1, 6) @ w1 + b1)\n",
        "        logits = h @ w2 + b2\n",
        "        loss = F.cross_entropy(logits, y_batch)\n",
        "        losses[lr].append(loss.item())\n",
        "\n",
        "        # Backward pass\n",
        "\n",
        "        # Zero all of the gradietns\n",
        "        for p in params:\n",
        "            p.grad = None\n",
        "\n",
        "        loss.backward()\n",
        "\n",
        "        # Update the parameters\n",
        "        for p in params:\n",
        "            p.data = p.data - lr * p.grad"
      ],
      "metadata": {
        "id": "LTZlQLNE3MAj"
      },
      "execution_count": 95,
      "outputs": []
    },
    {
      "cell_type": "code",
      "source": [
        "plt.figure(figsize=(8, 6))\n",
        "for lr, loss_vect in losses.items():\n",
        "    plt.plot(loss_vect, label=f\"lr={lr}\")\n",
        "\n",
        "plt.xlabel(\"epoch\")\n",
        "plt.ylabel(\"loss\")\n",
        "plt.title(\"Loss on training data for different learning rates\")\n",
        "plt.legend()\n",
        "plt.grid() \n",
        "plt.plot()"
      ],
      "metadata": {
        "colab": {
          "base_uri": "https://localhost:8080/",
          "height": 421
        },
        "id": "NH8yD6wE34jn",
        "outputId": "45ea5f03-b696-4c7a-dcc5-0cb7067f86da"
      },
      "execution_count": 99,
      "outputs": [
        {
          "output_type": "execute_result",
          "data": {
            "text/plain": [
              "[]"
            ]
          },
          "metadata": {},
          "execution_count": 99
        },
        {
          "output_type": "display_data",
          "data": {
            "text/plain": [
              "<Figure size 576x432 with 1 Axes>"
            ],
            "image/png": "[encoded data removed]"
          },
          "metadata": {
            "needs_background": "light"
          }
        }
      ]
    },
    {
      "cell_type": "markdown",
      "source": [
        "**Better approach**"
      ],
      "metadata": {
        "id": "SAw4oCqj5QL0"
      }
    },
    {
      "cell_type": "code",
      "source": [
        "lre = torch.linspace(-3, 0, 1000)\n",
        "lrs = 10 ** lre"
      ],
      "metadata": {
        "id": "EfBDrbqZ5PY7"
      },
      "execution_count": 111,
      "outputs": []
    },
    {
      "cell_type": "code",
      "source": [
        "BATCH_SIZE = 32\n",
        "N_ITERS = 100\n",
        "\n",
        "g = torch.Generator().manual_seed(2147483647)\n",
        "c = torch.randn((27, 2), generator=g)\n",
        "w1 = torch.randn((6, 100), generator=g)\n",
        "b1 = torch.randn(100, generator=g)\n",
        "w2 = torch.randn((100, 27), generator=g)\n",
        "b2 = torch.randn(27, generator=g)\n",
        "params = [c, w1, b1, w2, b2]\n",
        "\n",
        "# Make sure to enable gradients!\n",
        "for p in params:\n",
        "    p.requires_grad = True"
      ],
      "metadata": {
        "id": "6s_iARPq6NnZ"
      },
      "execution_count": 112,
      "outputs": []
    },
    {
      "cell_type": "code",
      "source": [
        "# Training loop\n",
        "lri = []\n",
        "losses = []\n",
        "n_iters = len(lrs)\n",
        "\n",
        "for k in range(n_iters):\n",
        "    # Perform mini-batch gradient descent\n",
        "    rand_idxs = torch.randint(0, x.shape[0], (BATCH_SIZE, ))\n",
        "    x_batch = x[rand_idxs]\n",
        "    y_batch = y[rand_idxs]\n",
        "\n",
        "    # Forward pass\n",
        "    emb = c[x_batch]\n",
        "    h = torch.tanh(emb.view(-1, 6) @ w1 + b1)\n",
        "    logits = h @ w2 + b2\n",
        "    loss = F.cross_entropy(logits, y_batch)\n",
        "\n",
        "    # Backward pass\n",
        "\n",
        "    # Zero all of the gradietns\n",
        "    for p in params:\n",
        "        p.grad = None\n",
        "\n",
        "    loss.backward()\n",
        "\n",
        "    # Update the parameters\n",
        "    for p in params:\n",
        "        curr_learn_rate = lrs[k]\n",
        "        p.data = p.data -  curr_learn_rate * p.grad\n",
        "\n",
        "    lri.append(curr_learn_rate)\n",
        "    losses.append(loss.data)"
      ],
      "metadata": {
        "id": "7Mq4dGL65P2u"
      },
      "execution_count": 113,
      "outputs": []
    },
    {
      "cell_type": "markdown",
      "source": [
        "**Learn rate vs loss plots**\n",
        "\n",
        "We pick the learning rate assocaited with the minima in the curve ploted bellow, it seems like picking `lr=0.1` would work fine."
      ],
      "metadata": {
        "id": "2UZp3qoq6yrs"
      }
    },
    {
      "cell_type": "code",
      "source": [
        "plt.plot(lri, losses)\n",
        "plt.xlabel(\"learn rate\")\n",
        "plt.ylabel(\"loss\")\n",
        "plt.grid() \n",
        "plt.plot()"
      ],
      "metadata": {
        "colab": {
          "base_uri": "https://localhost:8080/",
          "height": 296
        },
        "id": "6Xho_evo58gG",
        "outputId": "83bc5e30-ff3f-4152-e121-c23412d22d42"
      },
      "execution_count": 116,
      "outputs": [
        {
          "output_type": "execute_result",
          "data": {
            "text/plain": [
              "[]"
            ]
          },
          "metadata": {},
          "execution_count": 116
        },
        {
          "output_type": "display_data",
          "data": {
            "text/plain": [
              "<Figure size 432x288 with 1 Axes>"
            ],
            "image/png": "[encoded data removed]"
          },
          "metadata": {
            "needs_background": "light"
          }
        }
      ]
    },
    {
      "cell_type": "markdown",
      "source": [
        "**Training approach**\n",
        "\n",
        "Find decent learning rate, using approach presented above, than decay (e.g divide it by 10) the learning rate after some iterations (i.e smaller steps at the end of the optimization). "
      ],
      "metadata": {
        "id": "S-tiqdiB8GcJ"
      }
    },
    {
      "cell_type": "code",
      "source": [
        "LEARN_RATE = 0.1\n",
        "BATCH_SIZE = 32\n",
        "N_ITERS = 30000\n",
        "\n",
        "g = torch.Generator().manual_seed(2147483647)\n",
        "c = torch.randn((27, 2), generator=g)\n",
        "w1 = torch.randn((6, 100), generator=g)\n",
        "b1 = torch.randn(100, generator=g)\n",
        "w2 = torch.randn((100, 27), generator=g)\n",
        "b2 = torch.randn(27, generator=g)\n",
        "params = [c, w1, b1, w2, b2]\n",
        "\n",
        "# Make sure to enable gradients!\n",
        "for p in params:\n",
        "    p.requires_grad = True\n",
        "\n",
        "# Training loop\n",
        "losses = []\n",
        "for k in range(N_ITERS):\n",
        "    # Perform mini-batch gradient descent\n",
        "    rand_idxs = torch.randint(0, x.shape[0], (BATCH_SIZE, ))\n",
        "    x_batch = x[rand_idxs]\n",
        "    y_batch = y[rand_idxs]\n",
        "\n",
        "    # Forward pass\n",
        "    emb = c[x_batch]\n",
        "    h = torch.tanh(emb.view(-1, 6) @ w1 + b1)\n",
        "    logits = h @ w2 + b2\n",
        "    loss = F.cross_entropy(logits, y_batch)\n",
        "    losses.append(loss.item())\n",
        "\n",
        "    # Backward pass\n",
        "\n",
        "    # Zero all of the gradietns\n",
        "    for p in params:\n",
        "        p.grad = None\n",
        "\n",
        "    loss.backward()\n",
        "\n",
        "    # Update the parameters\n",
        "\n",
        "    # decay the learning rate:\n",
        "    if k > 20000:\n",
        "        lr = 0.01\n",
        "\n",
        "    for p in params:\n",
        "        p.data = p.data - LEARN_RATE * p.grad\n",
        "\n",
        "print(f\"loss: {loss.item()}\")"
      ],
      "metadata": {
        "colab": {
          "base_uri": "https://localhost:8080/"
        },
        "id": "9ndvVuwN7cO4",
        "outputId": "5982ca79-565f-4c5f-b104-15767eeb798a"
      },
      "execution_count": 123,
      "outputs": [
        {
          "output_type": "stream",
          "name": "stdout",
          "text": [
            "loss: 2.2999346256256104\n"
          ]
        }
      ]
    },
    {
      "cell_type": "markdown",
      "source": [
        "Note that the curve is slighly noisy, this is beacuse we are computing gradients using mini-batch training."
      ],
      "metadata": {
        "id": "ssCzTxbMAEh6"
      }
    },
    {
      "cell_type": "code",
      "source": [
        "plt.plot(losses, label=f\"lr_start: 0.1, lr_end: 0.01\")\n",
        "plt.xlabel(\"epoch\")\n",
        "plt.ylabel(\"loss\")\n",
        "plt.title(\"Loss on training data for different learning rates\")\n",
        "plt.legend()\n",
        "plt.grid() \n",
        "plt.plot()"
      ],
      "metadata": {
        "colab": {
          "base_uri": "https://localhost:8080/",
          "height": 312
        },
        "id": "u9eL2drw7ifm",
        "outputId": "11d38b22-5e44-4f76-938f-ce5f68b6c59f"
      },
      "execution_count": 125,
      "outputs": [
        {
          "output_type": "execute_result",
          "data": {
            "text/plain": [
              "[]"
            ]
          },
          "metadata": {},
          "execution_count": 125
        },
        {
          "output_type": "display_data",
          "data": {
            "text/plain": [
              "<Figure size 432x288 with 1 Axes>"
            ],
            "image/png": "[encoded data removed]"
          },
          "metadata": {
            "needs_background": "light"
          }
        }
      ]
    },
    {
      "cell_type": "markdown",
      "source": [
        "## Splitting the data (train, val, test)"
      ],
      "metadata": {
        "id": "_owHoJx19EbP"
      }
    },
    {
      "cell_type": "code",
      "source": [
        "# compute random indices.\n",
        "m = len(x)\n",
        "\n",
        "rand_idxs = torch.randperm(m)\n",
        "# shuffle the data.\n",
        "x = x[rand_idxs]\n",
        "y = y[rand_idxs]\n",
        "n1 = int(0.8 * m)\n",
        "n2 = int(0.9 * m)\n",
        "\n",
        "x_train = x[:n1]\n",
        "y_train = y[:n1]\n",
        "x_val = x[n1:n2]\n",
        "y_val = y[n1:n2]\n",
        "x_test = x[n2:]\n",
        "y_test = y[n2:]"
      ],
      "metadata": {
        "id": "byPd72zV9Hma"
      },
      "execution_count": 133,
      "outputs": []
    },
    {
      "cell_type": "code",
      "source": [
        "x_train.shape, y_train.shape"
      ],
      "metadata": {
        "colab": {
          "base_uri": "https://localhost:8080/"
        },
        "id": "dv7Lzb8u9mSY",
        "outputId": "7c1d74ac-72a0-436e-cd0e-525b81c6b54f"
      },
      "execution_count": 134,
      "outputs": [
        {
          "output_type": "execute_result",
          "data": {
            "text/plain": [
              "(torch.Size([25626, 3]), torch.Size([25626]))"
            ]
          },
          "metadata": {},
          "execution_count": 134
        }
      ]
    },
    {
      "cell_type": "code",
      "source": [
        "LEARN_RATE = 0.1\n",
        "BATCH_SIZE = 32\n",
        "N_ITERS = 30000\n",
        "\n",
        "g = torch.Generator().manual_seed(2147483647)\n",
        "c = torch.randn((27, 2), generator=g)\n",
        "w1 = torch.randn((6, 100), generator=g)\n",
        "b1 = torch.randn(100, generator=g)\n",
        "w2 = torch.randn((100, 27), generator=g)\n",
        "b2 = torch.randn(27, generator=g)\n",
        "params = [c, w1, b1, w2, b2]\n",
        "\n",
        "# Make sure to enable gradients!\n",
        "for p in params:\n",
        "    p.requires_grad = True\n",
        "\n",
        "# Training loop\n",
        "losses = []\n",
        "for k in range(N_ITERS):\n",
        "    # Perform mini-batch gradient descent\n",
        "    rand_idxs = torch.randint(0, x_train.shape[0], (BATCH_SIZE, ))\n",
        "    x_batch = x_train[rand_idxs]\n",
        "    y_batch = y_train[rand_idxs]\n",
        "\n",
        "    # Forward pass\n",
        "    emb = c[x_batch]\n",
        "    h = torch.tanh(emb.view(-1, 6) @ w1 + b1)\n",
        "    logits = h @ w2 + b2\n",
        "    loss = F.cross_entropy(logits, y_batch)\n",
        "    losses.append(loss.item())\n",
        "\n",
        "    # Backward pass\n",
        "\n",
        "    # Zero all of the gradietns\n",
        "    for p in params:\n",
        "        p.grad = None\n",
        "\n",
        "    loss.backward()\n",
        "\n",
        "    # Update the parameters\n",
        "\n",
        "    # decay the learning rate:\n",
        "    if k > 20000:\n",
        "        lr = 0.01\n",
        "\n",
        "    for p in params:\n",
        "        p.data = p.data - LEARN_RATE * p.grad\n",
        "\n",
        "print(f\"loss: {loss.item()}\")"
      ],
      "metadata": {
        "colab": {
          "base_uri": "https://localhost:8080/"
        },
        "id": "yKciHkZK-Qhe",
        "outputId": "d7eb150a-b89e-4d85-d8e1-48d13df9aa85"
      },
      "execution_count": 142,
      "outputs": [
        {
          "output_type": "stream",
          "name": "stdout",
          "text": [
            "loss: 1.9325354099273682\n"
          ]
        }
      ]
    },
    {
      "cell_type": "code",
      "source": [
        "emb = c[x]\n",
        "h = torch.tanh(emb.view(-1, 6) @ w1 + b1)\n",
        "logits = h @ w2 + b2\n",
        "loss = F.cross_entropy(logits, y)\n",
        "print(f\"loss (whole dataset): {loss}\")"
      ],
      "metadata": {
        "colab": {
          "base_uri": "https://localhost:8080/"
        },
        "id": "hSJ4D48V_EhW",
        "outputId": "4dd2a7ae-4a62-4d42-b765-237684b589b7"
      },
      "execution_count": 143,
      "outputs": [
        {
          "output_type": "stream",
          "name": "stdout",
          "text": [
            "loss (whole dataset): 2.4092326164245605\n"
          ]
        }
      ]
    },
    {
      "cell_type": "code",
      "source": [
        "emb = c[x_val]\n",
        "h = torch.tanh(emb.view(-1, 6) @ w1 + b1)\n",
        "logits = h @ w2 + b2\n",
        "loss = F.cross_entropy(logits, y_val)\n",
        "print(f\"loss (validation set): {loss}\")"
      ],
      "metadata": {
        "colab": {
          "base_uri": "https://localhost:8080/"
        },
        "id": "3H3INaf4-Vkr",
        "outputId": "4b4927f8-cccd-442b-c7f6-1e4ca4e2d248"
      },
      "execution_count": 144,
      "outputs": [
        {
          "output_type": "stream",
          "name": "stdout",
          "text": [
            "loss (validation set): 2.465691089630127\n"
          ]
        }
      ]
    },
    {
      "cell_type": "markdown",
      "source": [
        "## Bulding a larger network"
      ],
      "metadata": {
        "id": "spsdZUQK_RmV"
      }
    },
    {
      "cell_type": "markdown",
      "source": [
        "Increase the hiden layer dimension. Another option is to incease the dimension of the embedding matix, it could be that we are *cramming* too many characters into the 2 dimensions (network may not be able to use that space effectively)."
      ],
      "metadata": {
        "id": "GnryaCWSAeS-"
      }
    },
    {
      "cell_type": "code",
      "source": [
        "BATCH_SIZE = 32\n",
        "N_ITERS = 100\n",
        "\n",
        "g = torch.Generator().manual_seed(2147483647)\n",
        "c = torch.randn((27, 2), generator=g)\n",
        "w1 = torch.randn((6, 300), generator=g)\n",
        "b1 = torch.randn(300, generator=g)\n",
        "w2 = torch.randn((300, 27), generator=g)\n",
        "b2 = torch.randn(27, generator=g)\n",
        "params = [c, w1, b1, w2, b2]\n",
        "\n",
        "# Make sure to enable gradients!\n",
        "for p in params:\n",
        "    p.requires_grad = True"
      ],
      "metadata": {
        "id": "zvjqhk3H-pGv"
      },
      "execution_count": 176,
      "outputs": []
    },
    {
      "cell_type": "code",
      "source": [
        "# number of parameters to optimize\n",
        "sum(p.nelement() for p in params)"
      ],
      "metadata": {
        "colab": {
          "base_uri": "https://localhost:8080/"
        },
        "id": "76gQ5tAc_id6",
        "outputId": "2a017c0c-42f5-47d9-f4fb-100548bf85a7"
      },
      "execution_count": 177,
      "outputs": [
        {
          "output_type": "execute_result",
          "data": {
            "text/plain": [
              "10281"
            ]
          },
          "metadata": {},
          "execution_count": 177
        }
      ]
    },
    {
      "cell_type": "code",
      "source": [
        "LEARN_RATE = 0.005\n",
        "BATCH_SIZE = 32\n",
        "\n",
        "# Make sure to enable gradients!\n",
        "for p in params:\n",
        "    p.requires_grad = True\n",
        "\n",
        "# Training loop\n",
        "losses = []\n",
        "for k in range(30000):\n",
        "    # Perform mini-batch gradient descent\n",
        "    rand_idxs = torch.randint(0, x_train.shape[0], (BATCH_SIZE, ))\n",
        "    x_batch = x_train[rand_idxs]\n",
        "    y_batch = y_train[rand_idxs]\n",
        "\n",
        "    # Forward pass\n",
        "    emb = c[x_batch]\n",
        "    h = torch.tanh(emb.view(-1, 6) @ w1 + b1)\n",
        "    logits = h @ w2 + b2\n",
        "    loss = F.cross_entropy(logits, y_batch)\n",
        "    losses.append(loss.item())\n",
        "\n",
        "    # Backward pass\n",
        "\n",
        "    # Zero all of the gradietns\n",
        "    for p in params:\n",
        "        p.grad = None\n",
        "\n",
        "    loss.backward()\n",
        "\n",
        "    # Update the parameters\n",
        "\n",
        "    # decay the learning rate:\n",
        "    # if k > 20000:\n",
        "    #     lr = 0.01\n",
        "\n",
        "    for p in params:\n",
        "        p.data = p.data - LEARN_RATE * p.grad\n",
        "\n",
        "print(f\"loss: {loss.item()}\")"
      ],
      "metadata": {
        "colab": {
          "base_uri": "https://localhost:8080/"
        },
        "id": "tO8vexRM_WON",
        "outputId": "7afa002e-e112-4124-a1c0-1837f84da75c"
      },
      "execution_count": 190,
      "outputs": [
        {
          "output_type": "stream",
          "name": "stdout",
          "text": [
            "loss: 2.4887535572052\n"
          ]
        }
      ]
    },
    {
      "cell_type": "code",
      "source": [
        "emb = c[x]\n",
        "h = torch.tanh(emb.view(-1, 6) @ w1 + b1)\n",
        "logits = h @ w2 + b2\n",
        "loss = F.cross_entropy(logits, y)\n",
        "print(f\"loss (whole dataset): {loss}\")"
      ],
      "metadata": {
        "colab": {
          "base_uri": "https://localhost:8080/"
        },
        "id": "8MrIKVvTASgy",
        "outputId": "b4c0b45c-644b-4eb3-9a62-bb2cb63ceba7"
      },
      "execution_count": 194,
      "outputs": [
        {
          "output_type": "stream",
          "name": "stdout",
          "text": [
            "loss (whole dataset): 2.2954623699188232\n"
          ]
        }
      ]
    },
    {
      "cell_type": "code",
      "source": [
        "emb = c[x_val]\n",
        "h = torch.tanh(emb.view(-1, 6) @ w1 + b1)\n",
        "logits = h @ w2 + b2\n",
        "loss = F.cross_entropy(logits, y_val)\n",
        "print(f\"loss (validation set): {loss}\")"
      ],
      "metadata": {
        "colab": {
          "base_uri": "https://localhost:8080/"
        },
        "id": "6e3EEUYIARcv",
        "outputId": "7c6dda72-4470-4b00-e2f8-62aa70490cc1"
      },
      "execution_count": 195,
      "outputs": [
        {
          "output_type": "stream",
          "name": "stdout",
          "text": [
            "loss (validation set): 2.3593990802764893\n"
          ]
        }
      ]
    },
    {
      "cell_type": "markdown",
      "source": [
        "## Visulize the character embedding."
      ],
      "metadata": {
        "id": "WTqZaO1nBXdB"
      }
    },
    {
      "cell_type": "markdown",
      "source": [
        "**Analysis of the embedding space**\n",
        "\n",
        "We can see that the network has clustered the embeddings of characters which often coexist. \n",
        "\n",
        "For example we see a cluster of *a,o,u,e* (neural network treats this embeddings (i.e letters) as very similar, beacuse when we feed them to the neural network the value of the embedding is very similar).\n",
        "\n",
        "We see that *g* and *e* are treated as an exception."
      ],
      "metadata": {
        "id": "sslYv767Cijk"
      }
    },
    {
      "cell_type": "code",
      "source": [
        "# visualize dimensions 0 and 1 of the embedding matrix C for all characters\n",
        "plt.figure(figsize=(8,8))\n",
        "plt.scatter(c[:,0].data, c[:,1].data, s=200)\n",
        "for i in range(C.shape[0]):\n",
        "    plt.text(c[i,0].item(), c[i,1].item(), itos[i], ha=\"center\", va=\"center\", color='white')\n",
        "plt.grid('minor')"
      ],
      "metadata": {
        "colab": {
          "base_uri": "https://localhost:8080/",
          "height": 483
        },
        "id": "8uSjpdIKBf-Q",
        "outputId": "bce53532-10bc-4ffa-d653-ecc9a484e376"
      },
      "execution_count": 200,
      "outputs": [
        {
          "output_type": "display_data",
          "data": {
            "text/plain": [
              "<Figure size 576x576 with 1 Axes>"
            ],
            "image/png": "[encoded data removed]"
          },
          "metadata": {
            "needs_background": "light"
          }
        }
      ]
    },
    {
      "cell_type": "markdown",
      "source": [
        "## Scaling up the embedding matrix"
      ],
      "metadata": {
        "id": "23Tae7QQETuY"
      }
    },
    {
      "cell_type": "markdown",
      "source": [
        "Note that if we do this we won't be able to visualize the embeddings anymore."
      ],
      "metadata": {
        "id": "HBciH7NIEWzb"
      }
    },
    {
      "cell_type": "code",
      "source": [
        "BATCH_SIZE = 32\n",
        "N_ITERS = 100\n",
        "\n",
        "g = torch.Generator().manual_seed(2147483647)\n",
        "c = torch.randn((27, 10), generator=g)\n",
        "w1 = torch.randn((30, 200), generator=g)\n",
        "b1 = torch.randn(200, generator=g)\n",
        "w2 = torch.randn((200, 27), generator=g)\n",
        "b2 = torch.randn(27, generator=g)\n",
        "params = [c, w1, b1, w2, b2]\n",
        "\n",
        "# Make sure to enable gradients!\n",
        "for p in params:\n",
        "    p.requires_grad = True"
      ],
      "metadata": {
        "id": "8vTlPfjTCCAW"
      },
      "execution_count": 201,
      "outputs": []
    },
    {
      "cell_type": "code",
      "source": [
        "losses = []"
      ],
      "metadata": {
        "id": "MQBK46UaEpbp"
      },
      "execution_count": 203,
      "outputs": []
    },
    {
      "cell_type": "code",
      "source": [
        "LEARN_RATE = 0.005\n",
        "BATCH_SIZE = 32\n",
        "\n",
        "# Make sure to enable gradients!\n",
        "for p in params:\n",
        "    p.requires_grad = True\n",
        "\n",
        "# Training loop\n",
        "for k in range(30000):\n",
        "    # Perform mini-batch gradient descent\n",
        "    rand_idxs = torch.randint(0, x_train.shape[0], (BATCH_SIZE, ))\n",
        "    x_batch = x_train[rand_idxs]\n",
        "    y_batch = y_train[rand_idxs]\n",
        "\n",
        "    # Forward pass\n",
        "    emb = c[x_batch]\n",
        "    h = torch.tanh(emb.view(-1, w1.shape[0]) @ w1 + b1)\n",
        "    logits = h @ w2 + b2\n",
        "    loss = F.cross_entropy(logits, y_batch)\n",
        "    losses.append(loss.log10().item()) \n",
        "\n",
        "    # Backward pass\n",
        "\n",
        "    # Zero all of the gradietns\n",
        "    for p in params:\n",
        "        p.grad = None\n",
        "\n",
        "    loss.backward()\n",
        "\n",
        "    # Update the parameters\n",
        "    for p in params:\n",
        "        p.data = p.data - LEARN_RATE * p.grad\n",
        "\n",
        "print(f\"loss: {loss.item()}\")"
      ],
      "metadata": {
        "colab": {
          "base_uri": "https://localhost:8080/"
        },
        "id": "4XLzSKQMEg0L",
        "outputId": "ba3ec605-f860-4f79-9ce4-a8a24a6ecdc1"
      },
      "execution_count": 221,
      "outputs": [
        {
          "output_type": "stream",
          "name": "stdout",
          "text": [
            "loss: 1.6396715641021729\n"
          ]
        }
      ]
    },
    {
      "cell_type": "code",
      "source": [
        "plt.plot(losses)\n",
        "plt.xlabel(\"epoch\")\n",
        "plt.ylabel(\"log_10(loss)\")\n",
        "plt.title(\"Loss on training data for different learning rates\")\n",
        "plt.legend()\n",
        "plt.grid() \n",
        "plt.plot()"
      ],
      "metadata": {
        "colab": {
          "base_uri": "https://localhost:8080/",
          "height": 330
        },
        "id": "MNfcdgOJEyBz",
        "outputId": "786ac57c-310f-4b11-d76c-bf130d56ab05"
      },
      "execution_count": 222,
      "outputs": [
        {
          "output_type": "stream",
          "name": "stderr",
          "text": [
            "WARNING:matplotlib.legend:No handles with labels found to put in legend.\n"
          ]
        },
        {
          "output_type": "execute_result",
          "data": {
            "text/plain": [
              "[]"
            ]
          },
          "metadata": {},
          "execution_count": 222
        },
        {
          "output_type": "display_data",
          "data": {
            "text/plain": [
              "<Figure size 432x288 with 1 Axes>"
            ],
            "image/png": "[encoded data removed]"
          },
          "metadata": {
            "needs_background": "light"
          }
        }
      ]
    },
    {
      "cell_type": "code",
      "source": [
        "emb = c[x]\n",
        "h = torch.tanh(emb.view(-1, w1.shape[0]) @ w1 + b1)\n",
        "logits = h @ w2 + b2\n",
        "loss = F.cross_entropy(logits, y)\n",
        "print(f\"loss (whole dataset): {loss}\")"
      ],
      "metadata": {
        "colab": {
          "base_uri": "https://localhost:8080/"
        },
        "id": "LSZv5KyTFLa-",
        "outputId": "f9bb1ab1-c75c-4ed8-bc9e-3a05cb460c3a"
      },
      "execution_count": 223,
      "outputs": [
        {
          "output_type": "stream",
          "name": "stdout",
          "text": [
            "loss (whole dataset): 2.034259557723999\n"
          ]
        }
      ]
    },
    {
      "cell_type": "code",
      "source": [
        "emb = c[x_val]\n",
        "h = torch.tanh(emb.view(-1, w1.shape[0]) @ w1 + b1)\n",
        "logits = h @ w2 + b2\n",
        "loss = F.cross_entropy(logits, y_val)\n",
        "print(f\"loss (validation set): {loss}\")"
      ],
      "metadata": {
        "colab": {
          "base_uri": "https://localhost:8080/"
        },
        "id": "KbOS4R_5E6BR",
        "outputId": "c95a0632-3bd9-47a6-9268-0a291dc30ec2"
      },
      "execution_count": 224,
      "outputs": [
        {
          "output_type": "stream",
          "name": "stdout",
          "text": [
            "loss (validation set): 2.415937900543213\n"
          ]
        }
      ]
    },
    {
      "cell_type": "markdown",
      "source": [
        "**Commet**: We definetely managed to overfit the network :()."
      ],
      "metadata": {
        "id": "-GBd5dU8FlaQ"
      }
    },
    {
      "cell_type": "markdown",
      "source": [
        "## Sampling from the model"
      ],
      "metadata": {
        "id": "_Xi8ZEB4Gc44"
      }
    },
    {
      "cell_type": "code",
      "source": [
        "# sample from the model\n",
        "g = torch.Generator().manual_seed(2147483647 + 10)\n",
        "\n",
        "for _ in range(20):\n",
        "    out = []\n",
        "    context = [0] * block_size # initialize with all ...\n",
        "    while True:\n",
        "      emb = c[torch.tensor([context])] # (1,block_size,d)\n",
        "      h = torch.tanh(emb.view(1, -1) @ w1 + b1)\n",
        "      logits = h @ w2 + b2\n",
        "      probs = F.softmax(logits, dim=1)\n",
        "      ix = torch.multinomial(probs, num_samples=1, generator=g).item()\n",
        "      context = context[1:] + [ix]\n",
        "      out.append(ix)\n",
        "      if ix == 0:\n",
        "        break\n",
        "    \n",
        "    print(''.join(itos[i] for i in out))"
      ],
      "metadata": {
        "colab": {
          "base_uri": "https://localhost:8080/"
        },
        "id": "Xxri5RmiGeOk",
        "outputId": "4a2f82c5-a890-4d54-92af-3f16d7916f0a"
      },
      "execution_count": 226,
      "outputs": [
        {
          "output_type": "stream",
          "name": "stdout",
          "text": [
            "carmahzabelle.\n",
            "khi.\n",
            "mili.\n",
            "tatya.\n",
            "kanson.\n",
            "jazhnee.\n",
            "den.\n",
            "art.\n",
            "kaeli.\n",
            "nez.\n",
            "kea.\n",
            "chaiir.\n",
            "kaleigh.\n",
            "ham.\n",
            "pock.\n",
            "quinn.\n",
            "shline.\n",
            "lianni.\n",
            "want.\n",
            "paitarusitt.\n"
          ]
        }
      ]
    }
  ]
}