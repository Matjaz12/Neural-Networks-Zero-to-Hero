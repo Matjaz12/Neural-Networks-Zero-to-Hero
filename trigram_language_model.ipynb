{
 "cells": [
  {
   "cell_type": "markdown",
   "metadata": {
    "id": "SrBO6XFmufFv"
   },
   "source": [
    "# Trigram Language Model\n",
    "\n",
    "Solution to exercises proposed in [1].\n"
   ]
  },
  {
   "cell_type": "markdown",
   "metadata": {
    "id": "VC755k2vghjg"
   },
   "source": [
    "**References:**\n",
    "\n",
    "[1] [The spelled-out intro to language modeling: building makemore](https://www.youtube.com/watch?v=PaCmpygFfXo&t=3082s&ab_channel=AndrejKarpathy)"
   ]
  },
  {
   "cell_type": "markdown",
   "metadata": {
    "id": "aKnoB700uniQ"
   },
   "source": [
    "**Exercises:**\n",
    "\n",
    "1. *Train a trigram language model, i.e. take two characters as an input to predict the 3rd one. Feel free to use either counting or a neural net. Evaluate the loss; Did it improve over a bigram model?*\n",
    "\n",
    "2.  *Split up the dataset randomly into 80% train set, 10% dev set, 10% test set. Train the bigram and trigram models only on the training set. Evaluate them on dev and test splits. What can you see?*\n",
    "\n",
    "\n",
    "3. *Use the dev set to tune the strength of smoothing (or regularization) for the trigram model - i.e. try many possibilities and see which one works best based on the dev set loss. What patterns can you see in the train and dev set loss as you tune this strength? Take the best setting of the smoothing and evaluate on the test set once and at the end. How good of a loss do you achieve?*\n",
    "\n",
    "4. *We saw that our 1-hot vectors merely select a row of W, so producing these vectors explicitly feels wasteful. Can you delete our use of F.one_hot in favor of simply indexing into rows of W?*\n",
    "\n",
    "5. *Look up and use F.cross_entropy instead. You should achieve the same result. Can you think of why we'd prefer to use F.cross_entropy instead?*"
   ]
  },
  {
   "cell_type": "code",
   "execution_count": 197,
   "metadata": {
    "id": "ARH7S0LPu7nv"
   },
   "outputs": [],
   "source": [
    "import torch\n",
    "import numpy as np\n",
    "import matplotlib.pyplot as plt\n",
    "import torch.nn.functional as F"
   ]
  },
  {
   "cell_type": "code",
   "execution_count": null,
   "metadata": {
    "colab": {
     "base_uri": "https://localhost:8080/"
    },
    "id": "2iQlcr1CucYc",
    "outputId": "b6425c3a-bb72-4647-d099-d3fa2220bd8f"
   },
   "outputs": [
    {
     "name": "stdout",
     "output_type": "stream",
     "text": [
      "--2022-11-27 10:55:58--  https://raw.githubusercontent.com/karpathy/makemore/master/names.txt\n",
      "Resolving raw.githubusercontent.com (raw.githubusercontent.com)... 185.199.108.133, 185.199.109.133, 185.199.110.133, ...\n",
      "Connecting to raw.githubusercontent.com (raw.githubusercontent.com)|185.199.108.133|:443... connected.\n",
      "HTTP request sent, awaiting response... 200 OK\n",
      "Length: 228145 (223K) [text/plain]\n",
      "Saving to: ‘names.txt’\n",
      "\n",
      "\r",
      "names.txt             0%[                    ]       0  --.-KB/s               \r",
      "names.txt           100%[===================>] 222.80K  --.-KB/s    in 0.006s  \n",
      "\n",
      "2022-11-27 10:55:58 (36.6 MB/s) - ‘names.txt’ saved [228145/228145]\n",
      "\n"
     ]
    }
   ],
   "source": [
    "!wget https://raw.githubusercontent.com/karpathy/makemore/master/names.txt"
   ]
  },
  {
   "cell_type": "markdown",
   "metadata": {
    "id": "orTzCqunus6I"
   },
   "source": [
    "## 1. *Train a trigram language model, i.e. take two characters as an input to predict the 3rd one. Feel free to use either counting or a neural net. Evaluate the loss; Did it improve over a bigram model?*"
   ]
  },
  {
   "cell_type": "markdown",
   "metadata": {
    "id": "wy8ycUwAuv0J"
   },
   "source": [
    "### Approach 1: weight matrix $w$ of shape (27 + 27, 27)"
   ]
  },
  {
   "cell_type": "markdown",
   "metadata": {
    "id": "ZgWPpF_QvCPw"
   },
   "source": [
    "**Compute three grams**"
   ]
  },
  {
   "cell_type": "code",
   "execution_count": 198,
   "metadata": {
    "id": "0hwA2UeRuvAv"
   },
   "outputs": [],
   "source": [
    "words = open(\"names.txt\", \"r\").read().splitlines()"
   ]
  },
  {
   "cell_type": "code",
   "execution_count": null,
   "metadata": {
    "id": "u6htYhN1u17f"
   },
   "outputs": [],
   "source": [
    "chars = sorted(list(set(\"\".join(words))))\n",
    "stoi = {s:idx + 1 for idx, s in enumerate(chars)}\n",
    "stoi[\".\"] = 0\n",
    "itos = {idx: s for s, idx in stoi.items()}"
   ]
  },
  {
   "cell_type": "code",
   "execution_count": null,
   "metadata": {
    "id": "OgTRhCv7u3e1"
   },
   "outputs": [],
   "source": [
    "def build_three_grams(words):\n",
    "    x, y = [], []\n",
    "\n",
    "    for w in words:\n",
    "        # print(f\"word: {w}\\n\")\n",
    "        chs = \"..\" + w + \".\"\n",
    "        for idx in range(0, len(chs) - 2):\n",
    "            ch1, ch2, ch3 = chs[idx: idx + 2 + 1]\n",
    "            # print(f\"{ch1}{ch2}-> {ch3}\")\n",
    "            idx1, idx2, idx3 = stoi[ch1], stoi[ch2], stoi[ch3] \n",
    "\n",
    "            x.append([idx1, idx2])\n",
    "            y.append(idx3)\n",
    "\n",
    "    x = torch.tensor(x)\n",
    "    y = torch.tensor(y)\n",
    "\n",
    "    return x, y"
   ]
  },
  {
   "cell_type": "code",
   "execution_count": null,
   "metadata": {
    "id": "m-rP8Uc7u4v5"
   },
   "outputs": [],
   "source": [
    "x, y = build_three_grams(words)"
   ]
  },
  {
   "cell_type": "markdown",
   "metadata": {
    "id": "P_sH7tiQvF1C"
   },
   "source": [
    "**One-hot encode the x tensor**"
   ]
  },
  {
   "cell_type": "code",
   "execution_count": null,
   "metadata": {
    "id": "GTdR6Db1vGYy"
   },
   "outputs": [],
   "source": [
    "# One hot encode the first character\n",
    "x1 = x[:, 0]\n",
    "# One hot encode the second character\n",
    "x2 = x[:, 1]"
   ]
  },
  {
   "cell_type": "code",
   "execution_count": null,
   "metadata": {
    "colab": {
     "base_uri": "https://localhost:8080/"
    },
    "id": "18al4ytUvHmW",
    "outputId": "58cac64b-953b-420f-dd30-d3de77d68bba"
   },
   "outputs": [
    {
     "name": "stdout",
     "output_type": "stream",
     "text": [
      "..-> e\n",
      ".e-> m\n",
      "em-> m\n",
      "mm-> a\n",
      "ma-> .\n",
      "..-> o\n",
      ".o-> l\n",
      "ol-> i\n",
      "li-> v\n",
      "iv-> i\n",
      "vi-> a\n",
      "ia-> .\n"
     ]
    }
   ],
   "source": [
    "for i in range(12):\n",
    "    print(f\"{itos[x1[i].item()]}{itos[x2[i].item()]}-> {itos[y[i].item()]}\")"
   ]
  },
  {
   "cell_type": "code",
   "execution_count": null,
   "metadata": {
    "colab": {
     "base_uri": "https://localhost:8080/"
    },
    "id": "wAyS_eQ4vJbQ",
    "outputId": "31a59ef6-1e09-4c8e-9d8e-f5a13d5ffbf1"
   },
   "outputs": [
    {
     "data": {
      "text/plain": [
       "torch.Size([228146, 27])"
      ]
     },
     "execution_count": 11,
     "metadata": {},
     "output_type": "execute_result"
    }
   ],
   "source": [
    "x1_enc = F.one_hot(x1, num_classes=27).float()\n",
    "x1_enc.shape"
   ]
  },
  {
   "cell_type": "code",
   "execution_count": null,
   "metadata": {
    "colab": {
     "base_uri": "https://localhost:8080/"
    },
    "id": "BiXkwgzbvNZw",
    "outputId": "00b6b276-d4d3-4637-a32d-3e09c1ae924f"
   },
   "outputs": [
    {
     "data": {
      "text/plain": [
       "torch.Size([228146, 27])"
      ]
     },
     "execution_count": 13,
     "metadata": {},
     "output_type": "execute_result"
    }
   ],
   "source": [
    "x2_enc = F.one_hot(x2, num_classes=27).float()\n",
    "x2_enc.shape"
   ]
  },
  {
   "cell_type": "code",
   "execution_count": null,
   "metadata": {
    "colab": {
     "base_uri": "https://localhost:8080/"
    },
    "id": "iGViMMIYvKPn",
    "outputId": "320e10dd-5aca-488b-9c2f-0a4c60a1cf0c"
   },
   "outputs": [
    {
     "data": {
      "text/plain": [
       "torch.Size([228146, 54])"
      ]
     },
     "execution_count": 14,
     "metadata": {},
     "output_type": "execute_result"
    }
   ],
   "source": [
    "x_enc = torch.cat((x1_enc, x2_enc), dim=1)\n",
    "x_enc.shape"
   ]
  },
  {
   "cell_type": "markdown",
   "metadata": {
    "id": "leeuau5HvPmS"
   },
   "source": [
    "**Build the Linear MLP.**"
   ]
  },
  {
   "cell_type": "code",
   "execution_count": null,
   "metadata": {
    "colab": {
     "base_uri": "https://localhost:8080/"
    },
    "id": "FS8PDW1kvQV-",
    "outputId": "981b6a5d-c541-446c-bc4f-d8c4dd979861"
   },
   "outputs": [
    {
     "data": {
      "text/plain": [
       "torch.Size([54, 27])"
      ]
     },
     "execution_count": 15,
     "metadata": {},
     "output_type": "execute_result"
    }
   ],
   "source": [
    "input_dim = x_enc.shape[1]\n",
    "output_dim = 27\n",
    "\n",
    "w = torch.randn((input_dim, output_dim), requires_grad=True)\n",
    "w.shape"
   ]
  },
  {
   "cell_type": "code",
   "execution_count": null,
   "metadata": {
    "colab": {
     "base_uri": "https://localhost:8080/"
    },
    "id": "Ttni8fWIvSSY",
    "outputId": "03168d66-22a4-4430-d2f6-e53f8d14d333"
   },
   "outputs": [
    {
     "data": {
      "text/plain": [
       "tensor([[1., 0., 0., 0., 0., 0., 0., 0., 0., 0., 0., 0., 0., 0., 0., 0., 0., 0.,\n",
       "         0., 0., 0., 0., 0., 0., 0., 0., 0., 1., 0., 0., 0., 0., 0., 0., 0., 0.,\n",
       "         0., 0., 0., 0., 0., 0., 0., 0., 0., 0., 0., 0., 0., 0., 0., 0., 0., 0.]])"
      ]
     },
     "execution_count": 23,
     "metadata": {},
     "output_type": "execute_result"
    }
   ],
   "source": [
    "x_enc_i = x_enc[12]\n",
    "x_enc_i = torch.tensor([x_enc_i.tolist()])\n",
    "x_enc_i"
   ]
  },
  {
   "cell_type": "code",
   "execution_count": null,
   "metadata": {
    "colab": {
     "base_uri": "https://localhost:8080/"
    },
    "id": "EAuyHSPsvW8A",
    "outputId": "58c8edc8-162b-4cf7-98be-7cb231465788"
   },
   "outputs": [
    {
     "data": {
      "text/plain": [
       "tensor([[0.1044, 0.1183, 0.0196, 0.0109, 0.0177, 0.2708, 0.0163, 0.0367, 0.0085,\n",
       "         0.0229, 0.0046, 0.0058, 0.0123, 0.0033, 0.0202, 0.0086, 0.0085, 0.1601,\n",
       "         0.0131, 0.0048, 0.0058, 0.0035, 0.0247, 0.0186, 0.0602, 0.0129, 0.0068]],\n",
       "       grad_fn=<DivBackward0>)"
      ]
     },
     "execution_count": 24,
     "metadata": {},
     "output_type": "execute_result"
    }
   ],
   "source": [
    "# forward-pass\n",
    "logits = x_enc_i @ w # predict log-counts\n",
    "counts = logits.exp()\n",
    "probas = counts / counts.sum(1, keepdims=True)\n",
    "probas"
   ]
  },
  {
   "cell_type": "code",
   "execution_count": null,
   "metadata": {
    "colab": {
     "base_uri": "https://localhost:8080/",
     "height": 295
    },
    "id": "onPEX46wvuqk",
    "outputId": "7938bd29-b752-4459-c180-4346b0605024"
   },
   "outputs": [
    {
     "data": {
      "image/png": "[encoded data removed]",
      "text/plain": [
       "<Figure size 432x288 with 1 Axes>"
      ]
     },
     "metadata": {
      "needs_background": "light"
     },
     "output_type": "display_data"
    }
   ],
   "source": [
    "plt.bar(range(54), x_enc_i[0])\n",
    "plt.xlabel(\"one-hot vector input sample\")\n",
    "plt.ylabel(\"P(idx)\")\n",
    "plt.title(\"Bigram example\")\n",
    "plt.grid()"
   ]
  },
  {
   "cell_type": "code",
   "execution_count": null,
   "metadata": {
    "colab": {
     "base_uri": "https://localhost:8080/",
     "height": 295
    },
    "id": "nHcc0JU0v4La",
    "outputId": "e62c3588-afd9-4f6f-a4f9-281e37dfe78d"
   },
   "outputs": [
    {
     "data": {
      "image/png": "[encoded data removed]",
      "text/plain": [
       "<Figure size 432x288 with 1 Axes>"
      ]
     },
     "metadata": {
      "needs_background": "light"
     },
     "output_type": "display_data"
    }
   ],
   "source": [
    "plt.bar(range(27), probas[0].tolist())\n",
    "plt.xlabel(\"Character indices (idx)\")\n",
    "plt.ylabel(\"P(idx)\")\n",
    "plt.title(\"Probability distribution of the next character\")\n",
    "plt.grid()"
   ]
  },
  {
   "cell_type": "markdown",
   "metadata": {
    "id": "B7RgmycqwXj7"
   },
   "source": [
    "**Train the network**"
   ]
  },
  {
   "cell_type": "code",
   "execution_count": null,
   "metadata": {
    "colab": {
     "base_uri": "https://localhost:8080/",
     "height": 330
    },
    "id": "SrsDtW5kwPLP",
    "outputId": "3c73f0c7-6653-4340-d769-d3bbb2d785e4"
   },
   "outputs": [
    {
     "name": "stdout",
     "output_type": "stream",
     "text": [
      "train_loss (final): 2.356121063232422\n"
     ]
    },
    {
     "data": {
      "text/plain": [
       "[]"
      ]
     },
     "execution_count": 34,
     "metadata": {},
     "output_type": "execute_result"
    },
    {
     "data": {
      "image/png": "[encoded data removed]",
      "text/plain": [
       "<Figure size 432x288 with 1 Axes>"
      ]
     },
     "metadata": {
      "needs_background": "light"
     },
     "output_type": "display_data"
    }
   ],
   "source": [
    "import torch.nn.functional as F\n",
    "\n",
    "N_ITERS = 500\n",
    "LEARN_RATE = 25\n",
    "C = 0.01\n",
    "losses = []\n",
    "\n",
    "\n",
    "w = torch.randn((input_dim, output_dim), requires_grad=True)\n",
    "\n",
    "for k in range(N_ITERS):\n",
    "    # Forward pass\n",
    "    logits = x_enc @ w # predict log-counts\n",
    "    counts = logits.exp()\n",
    "    probas = counts / counts.sum(1, keepdims=True)\n",
    "\n",
    "    # Compute loss (apply regularization)\n",
    "    loss = -1 * probas[torch.arange(x_enc.shape[0]), y].log().mean() + C * (w ** 2).mean()\n",
    "    # print(f\"loss: {loss.data}\")\n",
    "    losses.append(loss.data)\n",
    "\n",
    "    # Zero grads and do backwards pass\n",
    "    w.grad = None\n",
    "    loss.backward()\n",
    "\n",
    "    # Update model weights\n",
    "    w.data = w.data - LEARN_RATE * w.grad\n",
    "\n",
    "print(f\"train_loss (final): {losses[-1]}\")\n",
    "plt.plot(losses)\n",
    "plt.xlabel(\"epoch\")\n",
    "plt.ylabel(\"loss\")\n",
    "plt.title(\"Loss on training data\")\n",
    "plt.grid() \n",
    "plt.plot()"
   ]
  },
  {
   "cell_type": "markdown",
   "metadata": {
    "id": "Cj7RsV6-wmNQ"
   },
   "source": [
    "**Generated words**"
   ]
  },
  {
   "cell_type": "code",
   "execution_count": null,
   "metadata": {
    "colab": {
     "base_uri": "https://localhost:8080/"
    },
    "id": "a0Ga5roLwm2y",
    "outputId": "baec4248-f0ea-475c-b6dd-1d037f94a0f0"
   },
   "outputs": [
    {
     "name": "stdout",
     "output_type": "stream",
     "text": [
      "generated_names: mor.\n",
      "generated_names: ays.\n",
      "generated_names: minaymnnyadraisemiaclah.\n",
      "generated_names: arilyeny.\n",
      "generated_names: rie.\n",
      "generated_names: oi.\n",
      "generated_names: ondalaek.\n",
      "generated_names: shalekirierielah.\n",
      "generated_names: yshi.\n",
      "generated_names: haat.\n"
     ]
    }
   ],
   "source": [
    "g = torch.Generator().manual_seed(2147483647)\n",
    "\n",
    "for i in range(10):\n",
    "    sampled_idxs = [0, 0]\n",
    "    generated_names = []\n",
    "\n",
    "    while True:\n",
    "        # Get the probability distribution of the next character given a set of two characters\n",
    "        # One-hot encode\n",
    "        x1_enc = F.one_hot(torch.tensor([sampled_idxs[0]]), num_classes=27).float() \n",
    "        x2_enc = F.one_hot(torch.tensor([sampled_idxs[1]]), num_classes=27).float() \n",
    "        x_enc = torch.cat((x1_enc, x2_enc), dim=1)\n",
    "\n",
    "        logits = x_enc @ w\n",
    "        counts = logits.exp()\n",
    "        p_dist = counts / counts.sum(1, keepdims=True)\n",
    "\n",
    "        sampled_idxs[0] = sampled_idxs[1]\n",
    "        sampled_idxs[1] = torch.multinomial(p_dist, num_samples=1, replacement=True, generator=g).item()\n",
    "        \n",
    "        generated_names.append(itos[sampled_idxs[1]])\n",
    "\n",
    "        if sampled_idxs[1] == 0:\n",
    "            break\n",
    "\n",
    "    print(\"generated_names:\", \"\".join(generated_names))"
   ]
  },
  {
   "cell_type": "markdown",
   "metadata": {
    "id": "z5vykTxYuxy9"
   },
   "source": [
    "### Approach 2: weight matrix $w$ of shape (720, 27)"
   ]
  },
  {
   "cell_type": "code",
   "execution_count": 199,
   "metadata": {
    "id": "KC893FW-uztQ"
   },
   "outputs": [],
   "source": [
    "chars = sorted(list(set(\"\".join(words))))\n",
    "stoi = {s:idx + 1 for idx, s in enumerate(chars)}\n",
    "stoi[\".\"] = 0\n",
    "itos = {idx: s for s, idx in stoi.items()}"
   ]
  },
  {
   "cell_type": "code",
   "execution_count": 200,
   "metadata": {
    "colab": {
     "base_uri": "https://localhost:8080/"
    },
    "id": "gopsVZfQzqUw",
    "outputId": "90e0921e-747a-4dff-a924-15ba106f17b4"
   },
   "outputs": [
    {
     "data": {
      "text/plain": [
       "729"
      ]
     },
     "execution_count": 200,
     "metadata": {},
     "output_type": "execute_result"
    }
   ],
   "source": [
    "from itertools import product\n",
    "\n",
    "chars_copy = chars.copy()\n",
    "chars_copy.append(\".\")\n",
    "\n",
    "chars2 = set()\n",
    "for comb in product(chars_copy, repeat=2):\n",
    "    chars2.add(\"\".join(comb))\n",
    "\n",
    "chars2 = sorted(list(chars2))\n",
    "len(chars2)"
   ]
  },
  {
   "cell_type": "code",
   "execution_count": 201,
   "metadata": {
    "id": "QNm7N5E00cG_"
   },
   "outputs": [],
   "source": [
    "stoi2 = {s:idx + 1 for idx, s in enumerate(chars2)}\n",
    "stoi2[\"..\"] = 0\n",
    "itos2 = {idx: s for s, idx in stoi2.items()}"
   ]
  },
  {
   "cell_type": "code",
   "execution_count": 202,
   "metadata": {
    "id": "N3HvCDGmzfjn"
   },
   "outputs": [],
   "source": [
    "def build_three_grams(words):\n",
    "    x, y = [], []\n",
    "\n",
    "    for w in words:\n",
    "        # print(f\"word: {w}\\n\")\n",
    "        chs = \"..\" + w + \".\"\n",
    "        for idx in range(0, len(chs) - 2):\n",
    "            ch1, ch2, ch3 = chs[idx: idx + 2 + 1]\n",
    "            # print(f\"{ch1}{ch2}-> {ch3}\")\n",
    "            idx1, idx2 = stoi2[ch1 + ch2], stoi[ch3] \n",
    "\n",
    "            x.append(idx1)\n",
    "            y.append(idx2)\n",
    "\n",
    "    x = torch.tensor(x)\n",
    "    y = torch.tensor(y)\n",
    "\n",
    "    return x, y"
   ]
  },
  {
   "cell_type": "code",
   "execution_count": 203,
   "metadata": {
    "id": "-89KRuxP063s"
   },
   "outputs": [],
   "source": [
    "x, y = build_three_grams(words)"
   ]
  },
  {
   "cell_type": "code",
   "execution_count": 204,
   "metadata": {
    "colab": {
     "base_uri": "https://localhost:8080/"
    },
    "id": "CIwJhw411iTT",
    "outputId": "5b00ca02-254e-4527-e541-7b4baaf2f94a"
   },
   "outputs": [
    {
     "data": {
      "text/plain": [
       "tensor(0)"
      ]
     },
     "execution_count": 204,
     "metadata": {},
     "output_type": "execute_result"
    }
   ],
   "source": [
    "x[0]"
   ]
  },
  {
   "cell_type": "markdown",
   "metadata": {
    "id": "xqnTY6tp1qy6"
   },
   "source": [
    "**One-hot encode the x tensor**"
   ]
  },
  {
   "cell_type": "code",
   "execution_count": 205,
   "metadata": {
    "colab": {
     "base_uri": "https://localhost:8080/"
    },
    "id": "D5P-DjBT2GVO",
    "outputId": "b9375763-210f-4c1a-f871-bd0ec1098433"
   },
   "outputs": [
    {
     "data": {
      "text/plain": [
       "tensor(729)"
      ]
     },
     "execution_count": 205,
     "metadata": {},
     "output_type": "execute_result"
    }
   ],
   "source": [
    "x.max()"
   ]
  },
  {
   "cell_type": "code",
   "execution_count": 206,
   "metadata": {
    "colab": {
     "base_uri": "https://localhost:8080/"
    },
    "id": "QQxMcXj41rMt",
    "outputId": "9aea00a4-e4b7-4291-eb89-3053cafcdf41"
   },
   "outputs": [
    {
     "data": {
      "text/plain": [
       "torch.Size([228146, 730])"
      ]
     },
     "execution_count": 206,
     "metadata": {},
     "output_type": "execute_result"
    }
   ],
   "source": [
    "x_enc = F.one_hot(x, num_classes=len(chars2) + 1).float()\n",
    "x_enc.shape"
   ]
  },
  {
   "cell_type": "markdown",
   "metadata": {
    "id": "E_p48wnC2QtT"
   },
   "source": [
    "**Build the Linear MLP.**"
   ]
  },
  {
   "cell_type": "code",
   "execution_count": 207,
   "metadata": {
    "colab": {
     "base_uri": "https://localhost:8080/"
    },
    "id": "NGgaZFmP2Rt4",
    "outputId": "f4cfb92b-8d9e-4e92-cced-62dc3fbf0300"
   },
   "outputs": [
    {
     "data": {
      "text/plain": [
       "torch.Size([730, 27])"
      ]
     },
     "execution_count": 207,
     "metadata": {},
     "output_type": "execute_result"
    }
   ],
   "source": [
    "input_dim = x_enc.shape[1]\n",
    "output_dim = 27\n",
    "\n",
    "w = torch.randn((input_dim, output_dim), requires_grad=True)\n",
    "w.shape"
   ]
  },
  {
   "cell_type": "code",
   "execution_count": 208,
   "metadata": {
    "colab": {
     "base_uri": "https://localhost:8080/"
    },
    "id": "4sRBsLG82cPB",
    "outputId": "3838b79e-79c9-440b-c843-cc6845e774f1"
   },
   "outputs": [
    {
     "data": {
      "text/plain": [
       "torch.Size([1, 730])"
      ]
     },
     "execution_count": 208,
     "metadata": {},
     "output_type": "execute_result"
    }
   ],
   "source": [
    "x_enc_i = x_enc[43]\n",
    "x_enc_i = torch.tensor([x_enc_i.tolist()])\n",
    "x_enc_i.shape"
   ]
  },
  {
   "cell_type": "code",
   "execution_count": 209,
   "metadata": {
    "colab": {
     "base_uri": "https://localhost:8080/"
    },
    "id": "yYeO28CW2hYu",
    "outputId": "3ecd2022-447a-4482-a700-c9f4aa8c065f"
   },
   "outputs": [
    {
     "data": {
      "text/plain": [
       "tensor([[0.0313, 0.0069, 0.0628, 0.0049, 0.0430, 0.1019, 0.0188, 0.0099, 0.0844,\n",
       "         0.0567, 0.0135, 0.0095, 0.0586, 0.0691, 0.0151, 0.0044, 0.0214, 0.0111,\n",
       "         0.0171, 0.0079, 0.0463, 0.0570, 0.0078, 0.1189, 0.0498, 0.0280, 0.0439]],\n",
       "       grad_fn=<DivBackward0>)"
      ]
     },
     "execution_count": 209,
     "metadata": {},
     "output_type": "execute_result"
    }
   ],
   "source": [
    "# forward-pass\n",
    "logits = x_enc_i @ w # predict log-counts\n",
    "counts = logits.exp()\n",
    "probas = counts / counts.sum(1, keepdims=True)\n",
    "probas"
   ]
  },
  {
   "cell_type": "code",
   "execution_count": 213,
   "metadata": {
    "colab": {
     "base_uri": "https://localhost:8080/",
     "height": 295
    },
    "id": "KlozfkJu2lJW",
    "outputId": "600fe761-b5e9-49ec-d21a-fe9531a3ffff"
   },
   "outputs": [
    {
     "data": {
      "image/png": "[encoded data removed]",
      "text/plain": [
       "<Figure size 432x288 with 1 Axes>"
      ]
     },
     "metadata": {
      "needs_background": "light"
     },
     "output_type": "display_data"
    }
   ],
   "source": [
    "plt.step(range(730), x_enc_i[0])\n",
    "plt.xlabel(\"one-hot vector input sample\")\n",
    "plt.ylabel(\"P(idx)\")\n",
    "plt.title(\"Bigram example\")\n",
    "plt.grid()"
   ]
  },
  {
   "cell_type": "code",
   "execution_count": 211,
   "metadata": {
    "colab": {
     "base_uri": "https://localhost:8080/",
     "height": 295
    },
    "id": "FhkCcHO-3cQQ",
    "outputId": "77785e0e-5c7a-4659-ab82-c81b28559fe3"
   },
   "outputs": [
    {
     "data": {
      "image/png": "[encoded data removed]",
      "text/plain": [
       "<Figure size 432x288 with 1 Axes>"
      ]
     },
     "metadata": {
      "needs_background": "light"
     },
     "output_type": "display_data"
    }
   ],
   "source": [
    "plt.bar(range(27), probas[0].tolist())\n",
    "plt.xlabel(\"Character indices (idx)\")\n",
    "plt.ylabel(\"P(idx)\")\n",
    "plt.title(\"Probability distribution of the next character\")\n",
    "plt.grid()"
   ]
  },
  {
   "cell_type": "markdown",
   "metadata": {
    "id": "s4opGvv43kyd"
   },
   "source": [
    "**Train the network**"
   ]
  },
  {
   "cell_type": "code",
   "execution_count": 215,
   "metadata": {
    "colab": {
     "base_uri": "https://localhost:8080/",
     "height": 330
    },
    "id": "FDaGXLC83VR8",
    "outputId": "a4294edd-34e7-4c57-ad25-9db91a913428"
   },
   "outputs": [
    {
     "name": "stdout",
     "output_type": "stream",
     "text": [
      "train_loss (final): 2.30743145942688\n"
     ]
    },
    {
     "data": {
      "text/plain": [
       "[]"
      ]
     },
     "execution_count": 215,
     "metadata": {},
     "output_type": "execute_result"
    },
    {
     "data": {
      "image/png": "[encoded data removed]",
      "text/plain": [
       "<Figure size 432x288 with 1 Axes>"
      ]
     },
     "metadata": {
      "needs_background": "light"
     },
     "output_type": "display_data"
    }
   ],
   "source": [
    "import torch.nn.functional as F\n",
    "\n",
    "N_ITERS = 200\n",
    "LEARN_RATE = 100\n",
    "C = 0.01\n",
    "losses = []\n",
    "\n",
    "\n",
    "w = torch.randn((input_dim, output_dim), requires_grad=True)\n",
    "\n",
    "for k in range(N_ITERS):\n",
    "    # Forward pass\n",
    "    logits = x_enc @ w # predict log-counts\n",
    "    counts = logits.exp()\n",
    "    probas = counts / counts.sum(1, keepdims=True)\n",
    "\n",
    "    # Compute loss (apply regularization)\n",
    "    loss = -1 * probas[torch.arange(x_enc.shape[0]), y].log().mean() + C * (w ** 2).mean()\n",
    "    # print(f\"loss: {loss.data}\")\n",
    "    losses.append(loss.data)\n",
    "\n",
    "    # Zero grads and do backwards pass\n",
    "    w.grad = None\n",
    "    loss.backward()\n",
    "\n",
    "    # Update model weights\n",
    "    w.data = w.data - LEARN_RATE * w.grad\n",
    "\n",
    "print(f\"train_loss (final): {losses[-1]}\")\n",
    "plt.plot(losses)\n",
    "plt.xlabel(\"epoch\")\n",
    "plt.ylabel(\"loss\")\n",
    "plt.title(\"Loss on training data\")\n",
    "plt.grid() \n",
    "plt.plot()"
   ]
  },
  {
   "cell_type": "markdown",
   "metadata": {
    "id": "l0LQFB4nsjqX"
   },
   "source": [
    "**Visualize the parameters**"
   ]
  },
  {
   "cell_type": "code",
   "execution_count": 235,
   "metadata": {
    "colab": {
     "base_uri": "https://localhost:8080/",
     "height": 100
    },
    "id": "lXAgeKFVsnX6",
    "outputId": "dc097877-9359-45e6-89a5-bcc83bb49bb1"
   },
   "outputs": [
    {
     "data": {
      "image/png": "[encoded data removed]",
      "text/plain": [
       "<Figure size 2160x1440 with 1 Axes>"
      ]
     },
     "metadata": {
      "needs_background": "light"
     },
     "output_type": "display_data"
    }
   ],
   "source": [
    "# logits = x_enc @ w # predict log-counts\n",
    "counts = w.exp()\n",
    "probas = counts / counts.sum(1, keepdims=True)\n",
    "probas_t = probas.T \n",
    "\n",
    "plt.figure(figsize=(30, 20))\n",
    "plt.imshow(probas_t.tolist())\n",
    "plt.title(\"(row) normalized Exp(w.T)\")\n",
    "plt.show()"
   ]
  },
  {
   "cell_type": "markdown",
   "metadata": {
    "id": "6RauDxUG6NR0"
   },
   "source": [
    "**Generated words**"
   ]
  },
  {
   "cell_type": "code",
   "execution_count": null,
   "metadata": {
    "colab": {
     "base_uri": "https://localhost:8080/"
    },
    "id": "qrdZqxJ06PZ_",
    "outputId": "a4b014d1-4a04-456e-ed4d-f8a2a4effcf7"
   },
   "outputs": [
    {
     "name": "stdout",
     "output_type": "stream",
     "text": [
      "generated_names: mknbaytcppnjxrutyn.\n",
      "generated_names: salon.\n",
      "generated_names: oder.\n",
      "generated_names: el.\n",
      "generated_names: marwiny.\n",
      "generated_names: ron.\n",
      "generated_names: odarimalabelon.\n",
      "generated_names: hamirelsona.\n",
      "generated_names: elyn.\n",
      "generated_names: rae.\n",
      "generated_names: bra.\n",
      "generated_names: cdhypfhqjqgordria.\n",
      "generated_names: miki.\n",
      "generated_names: ai.\n",
      "generated_names: fa.\n",
      "generated_names: jijhon.\n",
      "generated_names: axtyraliefqrsya.\n",
      "generated_names: zadtislihan.\n",
      "generated_names: kryn.\n",
      "generated_names: yushainelleerlourenn.\n"
     ]
    }
   ],
   "source": [
    "g = torch.Generator().manual_seed(2147483647)\n",
    "\n",
    "for i in range(20):\n",
    "    idx = 0\n",
    "    generated_names = []\n",
    "\n",
    "    i = 0\n",
    "    while True:\n",
    "        # Get the probability distribution of the next character given a set of two characters\n",
    "        # print(f\"Predicting next chars using: {itos2[idx]} \")\n",
    "        \n",
    "        # One-hot encode\n",
    "        x_enc = F.one_hot(torch.tensor([idx]), num_classes=730).float()\n",
    "\n",
    "        # Make a prediction\n",
    "        logits = x_enc @ w\n",
    "        counts = logits.exp()\n",
    "        p_dist = counts / counts.sum(1, keepdims=True)\n",
    "\n",
    "        # Sample from the probability distribution\n",
    "        sampled_idx = torch.multinomial(p_dist, num_samples=1, replacement=True, generator=g).item()\n",
    "        generated_names.append(itos[sampled_idx])\n",
    "        # print(f\"Predicted char: {itos[sampled_idx]}\")\n",
    "        \n",
    "        idx = stoi2[itos2[idx][-1] + itos[sampled_idx]]\n",
    "\n",
    "        if sampled_idx == stoi[\".\"]:\n",
    "            break\n",
    "\n",
    "    print(\"generated_names:\", \"\".join(generated_names))"
   ]
  },
  {
   "cell_type": "markdown",
   "metadata": {
    "id": "d3maf2DgDC-x"
   },
   "source": [
    "**Comment:** It seems like both approaches yield the roughly the same result, however the second approach takes longer to train (since the input tensors are larger).\n",
    "\n",
    "Why both (seem to) work ?\n",
    "\n",
    "In approach 1 we use the one hot encoded input vector (x_enc_i) to index two rows in the $w$ matrix, the resulting vector (y_hat_i) is just the sum of this two rows. We optimize the weights of $w$ s.t the sum of two indexed rows matches the distribution of the label vector as much as possible.\n",
    "\n",
    "In approach 2 we use one hot encoded vector to index just one row in the $w$ matrix and then optimize the index row to match the distribution of label vector.\n",
    "\n",
    "\n",
    "I decided to stick with the second approach for the rest of the exercises."
   ]
  },
  {
   "cell_type": "markdown",
   "metadata": {
    "id": "FtkKSq8SASg3"
   },
   "source": [
    "## 2.  *Split up the dataset randomly into 80% train set, 10% dev set, 10% test set. Train the bigram and trigram models only on the training set. Evaluate them on dev and test splits. What can you see?*"
   ]
  },
  {
   "cell_type": "code",
   "execution_count": null,
   "metadata": {
    "colab": {
     "base_uri": "https://localhost:8080/"
    },
    "id": "d9ZFiViuAVs_",
    "outputId": "2460d2dc-9240-490d-f34d-ab0e03a87a1d"
   },
   "outputs": [
    {
     "data": {
      "text/plain": [
       "228146"
      ]
     },
     "execution_count": 121,
     "metadata": {},
     "output_type": "execute_result"
    }
   ],
   "source": [
    "m = x.shape[0]\n",
    "m"
   ]
  },
  {
   "cell_type": "code",
   "execution_count": null,
   "metadata": {
    "id": "UIHWiHHwB5R_"
   },
   "outputs": [],
   "source": [
    "# compute random indices.\n",
    "rand_idxs = torch.randperm(m)\n",
    "# shuffle the data.\n",
    "x = x[rand_idxs]\n",
    "y = y[rand_idxs]\n",
    "\n",
    "x_train = x[: int(0.8 * m)]\n",
    "y_train = y[: int(0.8 * m)]\n",
    "x_val = x[int(0.8 * m): int(0.9 * m)]\n",
    "y_val = y[int(0.8 * m): int(0.9 * m)]\n",
    "x_test = x[int(0.9 * m):]\n",
    "y_test = y[int(0.9 * m):]"
   ]
  },
  {
   "cell_type": "code",
   "execution_count": null,
   "metadata": {
    "id": "_vowkrAhB_N6"
   },
   "outputs": [],
   "source": [
    "x_train_enc = F.one_hot(x_train, num_classes=len(chars2) + 1).float()\n",
    "x_val_enc = F.one_hot(x_val, num_classes=len(chars2) + 1).float()\n",
    "x_test_enc = F.one_hot(x_test, num_classes=len(chars2) + 1).float()"
   ]
  },
  {
   "cell_type": "markdown",
   "metadata": {
    "id": "C-pXU0SzCb0Z"
   },
   "source": [
    "**Train again this time also reporting the validation loss.**"
   ]
  },
  {
   "cell_type": "code",
   "execution_count": null,
   "metadata": {
    "id": "zZuXZFjlCWcg"
   },
   "outputs": [],
   "source": [
    "import torch.nn.functional as F\n",
    "\n",
    "N_ITERS = 200\n",
    "LEARN_RATE = 100\n",
    "C = 0.01\n",
    "train_losses = []\n",
    "val_losses = []\n",
    "\n",
    "w = torch.randn((input_dim, output_dim), requires_grad=True)\n",
    "\n",
    "for k in range(N_ITERS):\n",
    "    # Forward pass\n",
    "    logits = x_train_enc @ w # predict log-counts\n",
    "    counts = logits.exp()\n",
    "    probas = counts / counts.sum(1, keepdims=True)\n",
    "\n",
    "    # Compute loss (apply regularization)\n",
    "    train_loss = -1 * probas[torch.arange(x_train_enc.shape[0]), y_train].log().mean() + C * (w ** 2).mean()\n",
    "    print(f\"loss: {train_loss.data}\")\n",
    "    train_losses.append(train_loss.data)\n",
    "\n",
    "    with torch.no_grad():\n",
    "        logits_val = x_val_enc @ w # predict log-counts\n",
    "        counts_val = logits_val.exp()\n",
    "        probas_val = counts_val / counts_val.sum(1, keepdims=True)\n",
    "        val_loss = -1 * probas_val[torch.arange(x_val_enc.shape[0]), y_val].log().mean()\n",
    "        val_losses.append(val_loss)\n",
    "\n",
    "    # Zero grads and do backwards pass\n",
    "    w.grad = None\n",
    "    train_loss.backward()\n",
    "\n",
    "    # Update model weights\n",
    "    w.data = w.data - LEARN_RATE * w.grad"
   ]
  },
  {
   "cell_type": "code",
   "execution_count": null,
   "metadata": {
    "colab": {
     "base_uri": "https://localhost:8080/"
    },
    "id": "2qzI9rAIdxKu",
    "outputId": "08c5327c-8fcf-41a1-f144-a62e23b32726"
   },
   "outputs": [
    {
     "name": "stdout",
     "output_type": "stream",
     "text": [
      "tensor(2.3062)\n"
     ]
    }
   ],
   "source": [
    "print(train_losses[-1])"
   ]
  },
  {
   "cell_type": "code",
   "execution_count": null,
   "metadata": {
    "colab": {
     "base_uri": "https://localhost:8080/",
     "height": 312
    },
    "id": "97B0BB0uCgzA",
    "outputId": "6b541b89-4168-49ed-f0c3-2dd784a8107b"
   },
   "outputs": [
    {
     "data": {
      "text/plain": [
       "[]"
      ]
     },
     "execution_count": 140,
     "metadata": {},
     "output_type": "execute_result"
    },
    {
     "data": {
      "image/png": "[encoded data removed]",
      "text/plain": [
       "<Figure size 432x288 with 1 Axes>"
      ]
     },
     "metadata": {
      "needs_background": "light"
     },
     "output_type": "display_data"
    }
   ],
   "source": [
    "plt.plot(train_losses, label=\"train loss\")\n",
    "plt.plot(val_losses, label=\"val loss\")\n",
    "plt.xlabel(\"epoch\")\n",
    "plt.ylabel(\"loss\")\n",
    "plt.title(\"Negative Log Likelihood Loss\")\n",
    "plt.legend()\n",
    "plt.grid()\n",
    "plt.plot()"
   ]
  },
  {
   "cell_type": "markdown",
   "metadata": {
    "id": "XWBk_WaPFVAZ"
   },
   "source": [
    "**Comment**: It seems like the model is slightly underfitting, since the train loss is not lower than validation loss."
   ]
  },
  {
   "cell_type": "markdown",
   "metadata": {
    "id": "UkUtzB7oCqMX"
   },
   "source": [
    "## 3. *Use the dev set to tune the strength of smoothing (or regularization) for the trigram model - i.e. try many possibilities and see which one works best based on the dev set loss. What patterns can you see in the train and dev set loss as you tune this strength? Take the best setting of the smoothing and evaluate on the test set once and at the end. How good of a loss do you achieve?*"
   ]
  },
  {
   "cell_type": "code",
   "execution_count": null,
   "metadata": {
    "colab": {
     "base_uri": "https://localhost:8080/"
    },
    "id": "8wE5J2o-Cr8V",
    "outputId": "d14510d6-f7bc-406c-eb1a-00e64193f665"
   },
   "outputs": [
    {
     "name": "stderr",
     "output_type": "stream",
     "text": [
      " 12%|█▎        | 1/8 [04:17<29:59, 257.07s/it]"
     ]
    },
    {
     "name": "stdout",
     "output_type": "stream",
     "text": [
      "tensor(2.2962) tensor(2.3111)\n"
     ]
    },
    {
     "name": "stderr",
     "output_type": "stream",
     "text": [
      "\r",
      " 25%|██▌       | 2/8 [08:30<25:30, 255.11s/it]"
     ]
    },
    {
     "name": "stdout",
     "output_type": "stream",
     "text": [
      "tensor(2.3061) tensor(2.3117)\n"
     ]
    },
    {
     "name": "stderr",
     "output_type": "stream",
     "text": [
      "\r",
      " 38%|███▊      | 3/8 [12:43<21:11, 254.20s/it]"
     ]
    },
    {
     "name": "stdout",
     "output_type": "stream",
     "text": [
      "tensor(2.3159) tensor(2.3089)\n"
     ]
    },
    {
     "name": "stderr",
     "output_type": "stream",
     "text": [
      "\r",
      " 50%|█████     | 4/8 [16:57<16:56, 254.10s/it]"
     ]
    },
    {
     "name": "stdout",
     "output_type": "stream",
     "text": [
      "tensor(2.3459) tensor(2.3109)\n"
     ]
    },
    {
     "name": "stderr",
     "output_type": "stream",
     "text": [
      "\r",
      " 62%|██████▎   | 5/8 [21:12<12:42, 254.12s/it]"
     ]
    },
    {
     "name": "stdout",
     "output_type": "stream",
     "text": [
      "tensor(2.3834) tensor(2.3174)\n"
     ]
    },
    {
     "name": "stderr",
     "output_type": "stream",
     "text": [
      "\r",
      " 75%|███████▌  | 6/8 [25:26<08:28, 254.07s/it]"
     ]
    },
    {
     "name": "stdout",
     "output_type": "stream",
     "text": [
      "tensor(2.4499) tensor(2.3219)\n"
     ]
    },
    {
     "name": "stderr",
     "output_type": "stream",
     "text": [
      "\r",
      " 88%|████████▊ | 7/8 [29:38<04:13, 253.68s/it]"
     ]
    },
    {
     "name": "stdout",
     "output_type": "stream",
     "text": [
      "tensor(2.4993) tensor(2.3461)\n"
     ]
    },
    {
     "name": "stderr",
     "output_type": "stream",
     "text": [
      "100%|██████████| 8/8 [33:51<00:00, 253.99s/it]"
     ]
    },
    {
     "name": "stdout",
     "output_type": "stream",
     "text": [
      "tensor(2.5623) tensor(2.4015)\n"
     ]
    },
    {
     "name": "stderr",
     "output_type": "stream",
     "text": [
      "\n"
     ]
    }
   ],
   "source": [
    "import torch.nn.functional as F\n",
    "from tqdm import tqdm\n",
    "\n",
    "N_ITERS = 200\n",
    "LEARN_RATE = 100\n",
    "reg_stenghts = [0, 0.01, 0.02, 0.05, 0.1, 0.25, 0.5, 1.0]\n",
    "\n",
    "w = torch.randn((input_dim, output_dim), requires_grad=True)\n",
    "loss_dict = {} # <reg_strength: [final train loss, final val loss]>\n",
    "\n",
    "for reg_strength in tqdm(reg_stenghts):\n",
    "    # Init model and losses.\n",
    "    w = torch.randn((input_dim, output_dim), requires_grad=True)\n",
    "    train_losses = []\n",
    "    val_losses = []\n",
    "\n",
    "    for k in range(N_ITERS):\n",
    "        # Forward pass\n",
    "        logits = x_train_enc @ w # predict log-counts\n",
    "        counts = logits.exp()\n",
    "        probas = counts / counts.sum(1, keepdims=True)\n",
    "\n",
    "        # Compute loss (apply regularization)\n",
    "        train_loss = -1 * probas[torch.arange(x_train_enc.shape[0]), y_train].log().mean() + reg_strength * (w ** 2).mean()\n",
    "        train_losses.append(train_loss.data)\n",
    "        # print(f\"loss: {train_loss.data}\")\n",
    "\n",
    "        with torch.no_grad():\n",
    "            logits_val = x_val_enc @ w # predict log-counts\n",
    "            counts_val = logits_val.exp()\n",
    "            probas_val = counts_val / counts_val.sum(1, keepdims=True)\n",
    "            val_loss = -1 * probas_val[torch.arange(x_val_enc.shape[0]), y_val].log().mean()\n",
    "            val_losses.append(val_loss)\n",
    "\n",
    "        # Zero grads and do backwards pass\n",
    "        w.grad = None\n",
    "        train_loss.backward()\n",
    "\n",
    "        # Update model weights\n",
    "        w.data = w.data - LEARN_RATE * w.grad\n",
    "\n",
    "    print(train_losses[-1], val_losses[-1])\n",
    "    loss_dict[reg_strength] = [train_losses[-1], val_losses[-1]]\n",
    "    # plt.figure(figsize=(12, 10))\n",
    "    # plt.plot(train_losses, label=\"train loss\")\n",
    "    # plt.plot(val_losses, label=\"val loss\")\n",
    "    # plt.xlabel(\"epoch\")\n",
    "    # plt.ylabel(\"loss\")\n",
    "    # plt.title(f\"Negative Log Likelihood Loss, using regularization strenght of: {reg_strength}\")\n",
    "    # plt.legend()\n",
    "    # plt.grid() \n",
    "    # plt.plot()"
   ]
  },
  {
   "cell_type": "code",
   "execution_count": null,
   "metadata": {
    "colab": {
     "base_uri": "https://localhost:8080/",
     "height": 312
    },
    "id": "bNBdA2n4Cv8m",
    "outputId": "f75692e1-6ede-4a8c-ac16-f4db516e0d5c"
   },
   "outputs": [
    {
     "data": {
      "text/plain": [
       "[]"
      ]
     },
     "execution_count": 192,
     "metadata": {},
     "output_type": "execute_result"
    },
    {
     "data": {
      "image/png": "[encoded data removed]",
      "text/plain": [
       "<Figure size 432x288 with 1 Axes>"
      ]
     },
     "metadata": {
      "needs_background": "light"
     },
     "output_type": "display_data"
    }
   ],
   "source": [
    "plt.title(f\"Final Negative Log Likelihood Loss for diff. vals of  regularization strenght\")\n",
    "plt.plot(list(loss_dict.keys()), [train_loss for train_loss, _ in loss_dict.values()], \"o--\")\n",
    "plt.plot(list(loss_dict.keys()), [val_loss for _, val_loss in loss_dict.values()], \"o--\")\n",
    "plt.xlabel(\"Regularization (L2) Strength\")\n",
    "plt.ylabel(\"Final Negative Log Likelihood\")\n",
    "plt.grid()\n",
    "plt.plot()"
   ]
  },
  {
   "cell_type": "markdown",
   "metadata": {
    "id": "C4gUtGOwoXM5"
   },
   "source": [
    "**Comment:** We see that as we increase the regularization strength the loss on the training set increases, the loss on the validation set initially decreases (which is what we expect), but than it also starts increasing"
   ]
  },
  {
   "cell_type": "code",
   "execution_count": null,
   "metadata": {
    "colab": {
     "base_uri": "https://localhost:8080/"
    },
    "id": "oF5XiBZioVyw",
    "outputId": "0059ca15-8729-4425-b12a-b15d6305b130"
   },
   "outputs": [
    {
     "data": {
      "text/plain": [
       "2.3192195892333984"
      ]
     },
     "execution_count": 196,
     "metadata": {},
     "output_type": "execute_result"
    }
   ],
   "source": [
    "logits_test = x_test_enc @ w # predict log-counts\n",
    "counts_test = logits_test.exp()\n",
    "probas_test = counts_test / counts_test.sum(1, keepdims=True)\n",
    "val_loss = -1 * probas_test[torch.arange(x_test_enc.shape[0]), y_test].log().mean()\n",
    "val_loss.item()"
   ]
  },
  {
   "cell_type": "markdown",
   "metadata": {
    "id": "mBYrL9UtCsQQ"
   },
   "source": [
    "## 4. *We saw that our 1-hot vectors merely select a row of W, so producing these vectors explicitly feels wasteful. Can you delete our use of F.one_hot in favor of simply indexing into rows of W?*"
   ]
  },
  {
   "cell_type": "markdown",
   "metadata": {
    "id": "VGqHF-S0HSUO"
   },
   "source": [
    "Currently we are indexing rows by performing the following matrix multiplication.\n",
    "\n",
    "```\n",
    "logits = x_enc_i @ w\n",
    "logits = [0, 1, 0, 0, ...] @ w\n",
    "logits = w[1, :]\n",
    "```\n",
    "\n",
    "Same could be achivied by simply using the value of x_i as the index of the W matrix:\n",
    "\n",
    "`logits = w[x_i, :]` "
   ]
  },
  {
   "cell_type": "code",
   "execution_count": null,
   "metadata": {
    "colab": {
     "base_uri": "https://localhost:8080/"
    },
    "id": "UdhPTuccap0p",
    "outputId": "2515bc64-694d-4889-d46a-1b6bea48e178"
   },
   "outputs": [
    {
     "data": {
      "text/plain": [
       "tensor(37)"
      ]
     },
     "execution_count": 149,
     "metadata": {},
     "output_type": "execute_result"
    }
   ],
   "source": [
    "x_enc = F.one_hot(x, num_classes=len(chars2) + 1).float()\n",
    "x_enc"
   ]
  },
  {
   "cell_type": "code",
   "execution_count": null,
   "metadata": {
    "colab": {
     "base_uri": "https://localhost:8080/"
    },
    "id": "e9KHzpBgIeEP",
    "outputId": "23bd60ae-80ca-4484-a525-746d9920137c"
   },
   "outputs": [
    {
     "data": {
      "text/plain": [
       "tensor(21)"
      ]
     },
     "execution_count": 150,
     "metadata": {},
     "output_type": "execute_result"
    }
   ],
   "source": [
    "x_enc_i = torch.tensor([x_enc[132].tolist()])\n",
    "x_enc_i.argmax()"
   ]
  },
  {
   "cell_type": "code",
   "execution_count": null,
   "metadata": {
    "colab": {
     "base_uri": "https://localhost:8080/"
    },
    "id": "G-cyTCTZIi7q",
    "outputId": "a7864450-e8ca-4df2-a22e-95218c17061a"
   },
   "outputs": [
    {
     "data": {
      "text/plain": [
       "tensor([[-1.0152,  3.7219, -0.5428, -2.0982, -0.9418,  2.9426, -1.6451, -0.5537,\n",
       "          2.2707,  2.2972, -1.2160, -1.3562, -0.6507, -0.3600, -1.3089,  2.3488,\n",
       "         -0.6095, -0.9302,  2.9562, -1.5573, -1.2926,  0.3976, -1.4667, -0.4334,\n",
       "         -0.6487,  2.6209, -0.1689]], grad_fn=<MmBackward0>)"
      ]
     },
     "execution_count": 151,
     "metadata": {},
     "output_type": "execute_result"
    }
   ],
   "source": [
    "x_enc_i @ w"
   ]
  },
  {
   "cell_type": "code",
   "execution_count": null,
   "metadata": {
    "colab": {
     "base_uri": "https://localhost:8080/"
    },
    "id": "waYKq0oeIVGz",
    "outputId": "ebe87e77-40b8-424e-9035-f0cab3405acd"
   },
   "outputs": [
    {
     "data": {
      "text/plain": [
       "tensor(21)"
      ]
     },
     "execution_count": 152,
     "metadata": {},
     "output_type": "execute_result"
    }
   ],
   "source": [
    "x_i = x[132]\n",
    "x_i"
   ]
  },
  {
   "cell_type": "code",
   "execution_count": null,
   "metadata": {
    "colab": {
     "base_uri": "https://localhost:8080/"
    },
    "id": "Nqjt6sCbIZPL",
    "outputId": "068bdf9f-876b-4bf3-8adb-a8b6a1378e3b"
   },
   "outputs": [
    {
     "data": {
      "text/plain": [
       "tensor([-1.0152,  3.7219, -0.5428, -2.0982, -0.9418,  2.9426, -1.6451, -0.5537,\n",
       "         2.2707,  2.2972, -1.2160, -1.3562, -0.6507, -0.3600, -1.3089,  2.3488,\n",
       "        -0.6095, -0.9302,  2.9562, -1.5573, -1.2926,  0.3976, -1.4667, -0.4334,\n",
       "        -0.6487,  2.6209, -0.1689], grad_fn=<SliceBackward0>)"
      ]
     },
     "execution_count": 153,
     "metadata": {},
     "output_type": "execute_result"
    }
   ],
   "source": [
    "w[x_i, :]"
   ]
  },
  {
   "cell_type": "markdown",
   "metadata": {
    "id": "JjjTa63mI7Pg"
   },
   "source": [
    "**Predictions for the whole dataset**"
   ]
  },
  {
   "cell_type": "code",
   "execution_count": null,
   "metadata": {
    "colab": {
     "base_uri": "https://localhost:8080/"
    },
    "id": "oWGcnV8MbW4S",
    "outputId": "6de3fc1e-f1b0-43c9-aa60-e2b8e0db4c14"
   },
   "outputs": [
    {
     "data": {
      "text/plain": [
       "tensor(2.2989, grad_fn=<MulBackward0>)"
      ]
     },
     "execution_count": 166,
     "metadata": {},
     "output_type": "execute_result"
    }
   ],
   "source": [
    "logits = w[x, :]\n",
    "counts = logits.exp()\n",
    "prob = counts / counts.sum(1, keepdims=True)\n",
    "loss = -1 * prob[torch.arange(x.shape[0]), y].log().mean()\n",
    "loss"
   ]
  },
  {
   "cell_type": "code",
   "execution_count": null,
   "metadata": {
    "colab": {
     "base_uri": "https://localhost:8080/"
    },
    "id": "OqsfLTS0bhto",
    "outputId": "13a785f9-5a6d-4ca9-8a3e-29f96ff8b7df"
   },
   "outputs": [
    {
     "data": {
      "text/plain": [
       "tensor(2.2989, grad_fn=<MulBackward0>)"
      ]
     },
     "execution_count": 167,
     "metadata": {},
     "output_type": "execute_result"
    }
   ],
   "source": [
    "logits = x_enc @ w\n",
    "counts = logits.exp()\n",
    "prob = counts / counts.sum(1, keepdims=True)\n",
    "loss = -1 * prob[torch.arange(x.shape[0]), y].log().mean()\n",
    "loss"
   ]
  },
  {
   "cell_type": "markdown",
   "metadata": {
    "id": "Cl7fJfPmcBLY"
   },
   "source": [
    "**Comment**: we can see that we get the same results using the new approach."
   ]
  },
  {
   "cell_type": "markdown",
   "metadata": {
    "id": "e0KZN9Y5C17k"
   },
   "source": [
    "## 5. *Look up and use F.cross_entropy instead. You should achieve the same result. Can you think of why we'd prefer to use F.cross_entropy instead?*"
   ]
  },
  {
   "cell_type": "markdown",
   "metadata": {
    "id": "V2X-6bYGcdFU"
   },
   "source": [
    "Function computes the cross entropy between input logits and target."
   ]
  },
  {
   "cell_type": "code",
   "execution_count": null,
   "metadata": {
    "id": "O5g1kmQScrkl"
   },
   "outputs": [],
   "source": [
    "logits = w[x, :]"
   ]
  },
  {
   "cell_type": "code",
   "execution_count": null,
   "metadata": {
    "colab": {
     "base_uri": "https://localhost:8080/"
    },
    "id": "KaXgi0eGcV0Q",
    "outputId": "394337ff-c47e-4643-8322-fd9ca231a7ec"
   },
   "outputs": [
    {
     "data": {
      "text/plain": [
       "tensor(2.2989, grad_fn=<NllLossBackward0>)"
      ]
     },
     "execution_count": 170,
     "metadata": {},
     "output_type": "execute_result"
    }
   ],
   "source": [
    "loss = F.cross_entropy(input=logits, target=y)\n",
    "loss"
   ]
  },
  {
   "cell_type": "code",
   "execution_count": null,
   "metadata": {
    "id": "bLpWRV9eczX_"
   },
   "outputs": [],
   "source": [
    "logits = x_enc @ w"
   ]
  },
  {
   "cell_type": "code",
   "execution_count": null,
   "metadata": {
    "colab": {
     "base_uri": "https://localhost:8080/"
    },
    "id": "AvA-SFfVc2Bw",
    "outputId": "2aae3c07-d0e4-420f-8590-545b9b6541a7"
   },
   "outputs": [
    {
     "data": {
      "text/plain": [
       "tensor(2.2989, grad_fn=<NllLossBackward0>)"
      ]
     },
     "execution_count": 176,
     "metadata": {},
     "output_type": "execute_result"
    }
   ],
   "source": [
    "loss = F.cross_entropy(input=logits, target=y)\n",
    "loss"
   ]
  },
  {
   "cell_type": "code",
   "execution_count": null,
   "metadata": {
    "colab": {
     "base_uri": "https://localhost:8080/"
    },
    "id": "cFmEMh4kdQiz",
    "outputId": "e22060a5-e674-43b1-b447-78ac067d071d"
   },
   "outputs": [
    {
     "name": "stdout",
     "output_type": "stream",
     "text": [
      "21 ms ± 326 µs per loop (mean ± std. dev. of 7 runs, 10 loops each)\n"
     ]
    }
   ],
   "source": [
    "%%timeit\n",
    "loss = F.cross_entropy(input=logits, target=y)"
   ]
  },
  {
   "cell_type": "code",
   "execution_count": null,
   "metadata": {
    "colab": {
     "base_uri": "https://localhost:8080/"
    },
    "id": "lP2wY8QOdRtl",
    "outputId": "ded504a1-c795-48c0-f70a-3b7aff04d050"
   },
   "outputs": [
    {
     "name": "stdout",
     "output_type": "stream",
     "text": [
      "23.6 ms ± 93.5 µs per loop (mean ± std. dev. of 7 runs, 10 loops each)\n"
     ]
    }
   ],
   "source": [
    "%%timeit\n",
    "counts = logits.exp()\n",
    "prob = counts / counts.sum(1, keepdims=True)\n",
    "loss = -1 * prob[torch.arange(x.shape[0]), y].log().mean()"
   ]
  },
  {
   "cell_type": "markdown",
   "metadata": {
    "id": "CJ4ZGTS6dDOT"
   },
   "source": [
    "**Comment**: We get the same results using cross entropy."
   ]
  }
 ],
 "metadata": {
  "colab": {
   "provenance": [],
   "toc_visible": true
  },
  "kernelspec": {
   "display_name": "Python 3 (ipykernel)",
   "language": "python",
   "name": "python3"
  },
  "language_info": {
   "codemirror_mode": {
    "name": "ipython",
    "version": 3
   },
   "file_extension": ".py",
   "mimetype": "text/x-python",
   "name": "python",
   "nbconvert_exporter": "python",
   "pygments_lexer": "ipython3",
   "version": "3.10.6"
  }
 },
 "nbformat": 4,
 "nbformat_minor": 1
}
