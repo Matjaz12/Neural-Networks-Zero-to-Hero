{
  "nbformat": 4,
  "nbformat_minor": 0,
  "metadata": {
    "colab": {
      "provenance": []
    },
    "kernelspec": {
      "name": "python3",
      "display_name": "Python 3"
    },
    "language_info": {
      "name": "python"
    },
    "accelerator": "GPU",
    "gpuClass": "standard"
  },
  "cells": [
    {
      "cell_type": "markdown",
      "source": [
        "# Activations, Gradients, BatchNorm\n",
        "\n",
        "Solution to exercises proposed in [1].\n"
      ],
      "metadata": {
        "id": "aKwNUJfMsNMU"
      }
    },
    {
      "cell_type": "markdown",
      "source": [
        "**References:**\n",
        "\n",
        "[1] [Building makemore Part 3: Activations & Gradients, BatchNorm](https://www.youtube.com/watch?v=P6sfmUTpUmc&t=1715s&ab_channel=AndrejKarpathy)"
      ],
      "metadata": {
        "id": "bXTH0tDysQsn"
      }
    },
    {
      "cell_type": "markdown",
      "source": [
        "**Exercises:**\n",
        "\n",
        "0. *Implement PyTorch like API for MLPs. Implement visualization API (to visualize activation function saturations, gradients and gradient update rates).*\n",
        "\n",
        "1. *I did not get around to seeing what happens when you initialize all weights and biases to zero. Try this and train the neural net. You might think either that 1) the network trains just fine or 2) the network doesn't train at all, but actually it is 3) the network trains but only partially, and achieves a pretty bad final performance. Inspect the gradients and activations to figure out what is happening and why the network is only partially training, and what part is being trained exactly.*\n",
        "\n",
        "2. *BatchNorm, unlike other normalization layers like LayerNorm/GroupNorm etc. has the big advantage that after training, the batchnorm gamma/beta can be \"folded into\" the weights of the preceeding Linear layers, effectively erasing the need to forward it at test time. Set up a small 3-layer MLP with batchnorms, train the network, then \"fold\" the batchnorm gamma/beta into the preceeding Linear layer's W,b by creating a new W2, b2 and erasing the batch norm. Verify that this gives the same forward pass during inference. i.e. we see that the batchnorm is there just for stabilizing the training, and can be thrown out after training is done! pretty cool.*"
      ],
      "metadata": {
        "id": "75EpnHD_sH1k"
      }
    },
    {
      "cell_type": "code",
      "execution_count": 621,
      "metadata": {
        "id": "MGrUNb8Lrzvm"
      },
      "outputs": [],
      "source": [
        "import torch\n",
        "import numpy as np\n",
        "import matplotlib.pyplot as plt\n",
        "import torch.nn.functional as F"
      ]
    },
    {
      "cell_type": "code",
      "source": [
        "!wget https://raw.githubusercontent.com/karpathy/makemore/master/names.txt"
      ],
      "metadata": {
        "colab": {
          "base_uri": "https://localhost:8080/"
        },
        "id": "VbnX7JfxsfDe",
        "outputId": "4f50412e-f0f3-43d0-a5dd-540cc1be1037"
      },
      "execution_count": 622,
      "outputs": [
        {
          "output_type": "stream",
          "name": "stdout",
          "text": [
            "--2022-12-01 21:17:27--  https://raw.githubusercontent.com/karpathy/makemore/master/names.txt\n",
            "Resolving raw.githubusercontent.com (raw.githubusercontent.com)... 185.199.110.133, 185.199.108.133, 185.199.111.133, ...\n",
            "Connecting to raw.githubusercontent.com (raw.githubusercontent.com)|185.199.110.133|:443... connected.\n",
            "HTTP request sent, awaiting response... 200 OK\n",
            "Length: 228145 (223K) [text/plain]\n",
            "Saving to: ‘names.txt.2’\n",
            "\n",
            "\rnames.txt.2           0%[                    ]       0  --.-KB/s               \rnames.txt.2         100%[===================>] 222.80K  --.-KB/s    in 0.009s  \n",
            "\n",
            "2022-12-01 21:17:27 (24.5 MB/s) - ‘names.txt.2’ saved [228145/228145]\n",
            "\n"
          ]
        }
      ]
    },
    {
      "cell_type": "code",
      "source": [
        "words = open(\"names.txt\", \"r\").read().splitlines()"
      ],
      "metadata": {
        "id": "xu52qWX9sfve"
      },
      "execution_count": 623,
      "outputs": []
    },
    {
      "cell_type": "code",
      "source": [
        "chars = sorted(list(set(\"\".join(words))))\n",
        "stoi = {s:idx + 1 for idx, s in enumerate(chars)}\n",
        "stoi[\".\"] = 0\n",
        "itos = {idx: s for s, idx in stoi.items()}\n",
        "block_size = 3"
      ],
      "metadata": {
        "id": "qjttpaLZsha1"
      },
      "execution_count": 624,
      "outputs": []
    },
    {
      "cell_type": "code",
      "source": [
        "def build_dataset(words):  \n",
        "    X, Y = [], []\n",
        "    for w in words:\n",
        "        #print(w)\n",
        "        context = [0] * block_size\n",
        "        for ch in w + '.':\n",
        "            ix = stoi[ch]\n",
        "            X.append(context)\n",
        "            Y.append(ix)\n",
        "            #print(''.join(itos[i] for i in context), '--->', itos[ix])\n",
        "            context = context[1:] + [ix] # crop and append\n",
        "\n",
        "    X = torch.tensor(X)\n",
        "    Y = torch.tensor(Y)\n",
        "    print(X.shape, Y.shape)\n",
        "    return X, Y"
      ],
      "metadata": {
        "id": "WPvPZ7fOskfp"
      },
      "execution_count": 625,
      "outputs": []
    },
    {
      "cell_type": "code",
      "source": [
        "x, y = build_dataset(words)"
      ],
      "metadata": {
        "colab": {
          "base_uri": "https://localhost:8080/"
        },
        "id": "CPw_tzIusj-T",
        "outputId": "0e0ab8e0-cf93-4320-d18a-94b698ea17b9"
      },
      "execution_count": 626,
      "outputs": [
        {
          "output_type": "stream",
          "name": "stdout",
          "text": [
            "torch.Size([228146, 3]) torch.Size([228146])\n"
          ]
        }
      ]
    },
    {
      "cell_type": "code",
      "source": [
        "# compute random indices.\n",
        "m = len(x)\n",
        "\n",
        "rand_idxs = torch.randperm(m)\n",
        "# shuffle the data.\n",
        "x = x[rand_idxs]\n",
        "y = y[rand_idxs]\n",
        "n1 = int(0.8 * m)\n",
        "n2 = int(0.9 * m)\n",
        "\n",
        "x_train = x[:n1]\n",
        "y_train = y[:n1]\n",
        "x_val = x[n1:n2]\n",
        "y_val = y[n1:n2]\n",
        "x_test = x[n2:]\n",
        "y_test = y[n2:]\n",
        "\n",
        "\n",
        "x_train = x_train.to(device=\"cuda\")\n",
        "y_train = y_train.to(device=\"cuda\")\n",
        "x_val = x_val.to(device=\"cuda\")\n",
        "y_val = y_val.to(device=\"cuda\")\n",
        "x_test = x_test.to(device=\"cuda\")\n",
        "y_test = y_test.to(device=\"cuda\")"
      ],
      "metadata": {
        "id": "EuS_FkXWsmfo"
      },
      "execution_count": null,
      "outputs": []
    },
    {
      "cell_type": "markdown",
      "source": [
        "## 0. *Implement PyTorch like API for MLPs. Implement visualization API (to visualize activation function saturations, gradients and gradient update rates).*\n"
      ],
      "metadata": {
        "id": "Oqwxie9RK1mK"
      }
    },
    {
      "cell_type": "markdown",
      "source": [
        "**Implement the linear layer**"
      ],
      "metadata": {
        "id": "5SzPUtele4Hq"
      }
    },
    {
      "cell_type": "code",
      "source": [
        "class Linear:\n",
        "    def __init__(self, in_dim, out_dim, bias=True, device=\"cuda\"):\n",
        "        # Init weights using kaiming approach\n",
        "        scale = 1 / (in_dim ** (0.5))\n",
        "        self.w = torch.randn((in_dim, out_dim)) * scale\n",
        "        self.b = torch.zeros(out_dim) if bias else None\n",
        "\n",
        "        if device == \"cuda\":\n",
        "            self.w = self.w.to(device=\"cuda\")\n",
        "            if self.b is not None:\n",
        "                self.b = self.b.to(device=\"cuda\")\n",
        "\n",
        "    def __call__(self, x):\n",
        "        self.out = x @ self.w\n",
        "        if self.b is not None:\n",
        "            self.out += self.b\n",
        "        \n",
        "        return self.out\n",
        "\n",
        "    def parameters(self):\n",
        "        params = [self.w] + ([] if self.b is None else [self.b])\n",
        "        return params"
      ],
      "metadata": {
        "id": "aNDrY4bGeGCX"
      },
      "execution_count": null,
      "outputs": []
    },
    {
      "cell_type": "markdown",
      "source": [
        "**Implement the embedding layer**"
      ],
      "metadata": {
        "id": "4iG_2BX3e6nb"
      }
    },
    {
      "cell_type": "code",
      "source": [
        "class Embedding:\n",
        "    def __init__(self, in_dim, out_dim, device=\"cuda\"):\n",
        "        self.c = torch.randn((in_dim, out_dim))\n",
        "\n",
        "        if device == \"cuda\":\n",
        "            self.c = self.c.to(device=\"cuda\")\n",
        "\n",
        "    def __call__(self, x):\n",
        "        self.out = self.c[x]\n",
        "        return self.out\n",
        "\n",
        "    def parameters(self):\n",
        "        return [self.c]"
      ],
      "metadata": {
        "id": "-iyMR4-1eGuU"
      },
      "execution_count": null,
      "outputs": []
    },
    {
      "cell_type": "markdown",
      "source": [
        "**Implement the tanh**"
      ],
      "metadata": {
        "id": "xejJSQZWe8Dl"
      }
    },
    {
      "cell_type": "code",
      "source": [
        "class Tanh:\n",
        "    def __call__(self, x):\n",
        "        self.out = torch.tanh(x)\n",
        "        return self.out\n",
        "\n",
        "    def parameters(self):\n",
        "        return []"
      ],
      "metadata": {
        "id": "oSWKnbEseN3K"
      },
      "execution_count": null,
      "outputs": []
    },
    {
      "cell_type": "markdown",
      "source": [
        "**Implement the batch norm**"
      ],
      "metadata": {
        "id": "F6U7RqNJe94k"
      }
    },
    {
      "cell_type": "code",
      "source": [
        "class BatchNorm1d:\n",
        "    def __init__(self, dim, momentum=0.1, eps=1e-5, device=\"cuda\"):\n",
        "        self.momentum =  momentum\n",
        "        self.eps = eps\n",
        "        self.train = True\n",
        "\n",
        "        # Init the bn_gain and bn_bias\n",
        "        self.gain = torch.ones(dim)\n",
        "        self.bias = torch.zeros(dim)\n",
        "\n",
        "        # Init running average of mean and var (global mean and var)\n",
        "        # Recall that the global mean and var is used for inference\n",
        "        self.mean_running = torch.zeros(dim)\n",
        "        self.var_running = torch.ones(dim)\n",
        "\n",
        "        if device == \"cuda\":\n",
        "            self.gain = self.gain.to(device=\"cuda\")\n",
        "            self.bias = self.bias.to(device=\"cuda\")\n",
        "            self.mean_running = self.mean_running.to(device=\"cuda\") \n",
        "            self.var_running = self.mean_running.to(device=\"cuda\")\n",
        "\n",
        "    def __call__(self, x):\n",
        "        if self.train:\n",
        "            x_mean = x.mean(0, keepdim=True)\n",
        "            x_var = x.var(0, keepdim=True)\n",
        "        else:\n",
        "            x_mean = self.mean_running\n",
        "            x_var = self.var_running\n",
        "        \n",
        "        x_hat = (x - x_mean) / torch.sqrt(x_var + self.eps)\n",
        "        self.out = self.gain * x_hat + self.bias\n",
        "\n",
        "        if self.train:\n",
        "            self.mean_running = (1 - self.momentum) * self.mean_running + self.momentum * x_mean\n",
        "            self.var_running = (1 - self.momentum) * self.var_running + self.momentum * x_var\n",
        "\n",
        "        return self.out\n",
        "\n",
        "    def parameters(self):\n",
        "        return [self.gain, self.bias]"
      ],
      "metadata": {
        "id": "1TYv1yqZTUfK"
      },
      "execution_count": null,
      "outputs": []
    },
    {
      "cell_type": "markdown",
      "source": [
        "**Implement the network**"
      ],
      "metadata": {
        "id": "yzwQtUv0e_6E"
      }
    },
    {
      "cell_type": "code",
      "source": [
        "n_embed = 10\n",
        "block_size = 3\n",
        "n_fc1 = 100\n",
        "n_fc2 = 100\n",
        "vocab_size = 27"
      ],
      "metadata": {
        "id": "uT8-6Zi2bjsl"
      },
      "execution_count": null,
      "outputs": []
    },
    {
      "cell_type": "code",
      "source": [
        "class MLP:\n",
        "    def __init__(self):\n",
        "        self.layers = [\n",
        "            # Define the embedding matrix\n",
        "            Embedding(in_dim=x_train.shape[0],out_dim=n_embed),\n",
        "\n",
        "            # Linear layer + BatchNorm + Tanh\n",
        "            Linear(in_dim=n_embed * block_size, out_dim=n_fc1, bias=False),\n",
        "            BatchNorm1d(dim=n_fc1),\n",
        "            Tanh(),\n",
        "\n",
        "            # Linear layer + BatchNorm + Tanh\n",
        "            Linear(in_dim=n_fc1, out_dim=n_fc2, bias=False),\n",
        "            BatchNorm1d(dim=n_fc2),\n",
        "            Tanh(),\n",
        "\n",
        "            # Linear layer + BatchNorm\n",
        "            Linear(in_dim=n_fc2, out_dim=vocab_size, bias=False),\n",
        "            BatchNorm1d(dim=vocab_size),\n",
        "        ]\n",
        "\n",
        "        # Set requires_grad to all parameters\n",
        "        self.apply_grads()\n",
        "\n",
        "    def __call__(self, x):\n",
        "        # Apply the embedding\n",
        "        self.out = self.layers[0](x).view(-1, n_embed * block_size)\n",
        "\n",
        "        for layer in self.layers[1: ]:\n",
        "            self.out = layer(self.out)\n",
        "\n",
        "        return self.out\n",
        "    \n",
        "    def parameters(self):\n",
        "        params = [p for layer in self.layers for p in layer.parameters()]\n",
        "        return params\n",
        "\n",
        "    def zero_grad(self):\n",
        "        for p in self.parameters():\n",
        "            p.grad = None\n",
        "\n",
        "    def apply_grads(self):\n",
        "        for p in self.parameters():\n",
        "            p.requires_grad = True"
      ],
      "metadata": {
        "id": "tkBvmHlHWbo8"
      },
      "execution_count": null,
      "outputs": []
    },
    {
      "cell_type": "code",
      "source": [
        "net = MLP()\n",
        "# print(net.layers[1].w.device)\n",
        "out = net(x_train)\n",
        "out.shape"
      ],
      "metadata": {
        "colab": {
          "base_uri": "https://localhost:8080/"
        },
        "id": "3BkQ_QpdYQ2m",
        "outputId": "aa126077-0c8b-4772-b561-162e6365b674"
      },
      "execution_count": null,
      "outputs": [
        {
          "output_type": "execute_result",
          "data": {
            "text/plain": [
              "torch.Size([182516, 27])"
            ]
          },
          "metadata": {},
          "execution_count": 248
        }
      ]
    },
    {
      "cell_type": "markdown",
      "source": [
        "**Overfit the first batch**"
      ],
      "metadata": {
        "id": "HZqk4sb4fH8j"
      }
    },
    {
      "cell_type": "code",
      "source": [
        "batch_size = 32\n",
        "rand_idx = torch.randint(0, x_train.shape[0], (batch_size, ))\n",
        "x_batch, y_batch = x_train[rand_idx], y_train[rand_idx]"
      ],
      "metadata": {
        "id": "siYfJrlmg1KU"
      },
      "execution_count": null,
      "outputs": []
    },
    {
      "cell_type": "code",
      "source": [
        "n_steps = 1000\n",
        "batch_size = 32\n",
        "lr = 0.1\n",
        "\n",
        "model = MLP()\n",
        "losses = []\n",
        "\n",
        "for iter in range(n_steps):\n",
        "    # Forward pass\n",
        "    y_hat = model(x_batch)\n",
        "    loss = F.cross_entropy(y_hat, y_batch)\n",
        "    losses.append(loss.item())\n",
        "\n",
        "    # Backward pass\n",
        "    model.zero_grad()\n",
        "    loss.backward()\n",
        "    # lr = lr if iter < 150000 else iter / 10\n",
        "\n",
        "    # Update the weights\n",
        "    for p in model.parameters():\n",
        "        p.data = p.data - lr * p.grad\n",
        "\n",
        "print(f\"loss (train): {loss.item()}\")"
      ],
      "metadata": {
        "colab": {
          "base_uri": "https://localhost:8080/"
        },
        "id": "rXBXlzIifJg4",
        "outputId": "7f98e156-74cd-4164-f2be-295e1c188ece"
      },
      "execution_count": null,
      "outputs": [
        {
          "output_type": "stream",
          "name": "stdout",
          "text": [
            "loss (train): 0.054336197674274445\n"
          ]
        }
      ]
    },
    {
      "cell_type": "code",
      "source": [
        "plt.plot(losses)\n",
        "plt.xlabel(\"iter\")\n",
        "plt.ylabel(\"cross entropy loss\")\n",
        "plt.grid()\n",
        "plt.plot()"
      ],
      "metadata": {
        "colab": {
          "base_uri": "https://localhost:8080/",
          "height": 296
        },
        "id": "yUBp9Fotgl6W",
        "outputId": "27a5fc01-473a-402d-f03b-992f2c758983"
      },
      "execution_count": null,
      "outputs": [
        {
          "output_type": "execute_result",
          "data": {
            "text/plain": [
              "[]"
            ]
          },
          "metadata": {},
          "execution_count": 251
        },
        {
          "output_type": "display_data",
          "data": {
            "text/plain": [
              "<Figure size 432x288 with 1 Axes>"
            ],
            "image/png": "[encoded data removed]"
          },
          "metadata": {
            "needs_background": "light"
          }
        }
      ]
    },
    {
      "cell_type": "markdown",
      "source": [
        "**Implement the training loop**"
      ],
      "metadata": {
        "id": "3Czj4kFsnuoE"
      }
    },
    {
      "cell_type": "code",
      "source": [
        "from tqdm import tqdm\n",
        "\n",
        "def train_model(x_train, y_train, model, \n",
        "                n_steps=200000, batch_size=32, learn_rate=0.1):\n",
        "    losses = []\n",
        "    update_vs_data = []\n",
        "\n",
        "    for iter in tqdm(range(n_steps)):\n",
        "        # Sample a random batch\n",
        "        rand_idx = torch.randint(0, x_train.shape[0], (batch_size, ))\n",
        "        x_batch, y_batch = x_train[rand_idx], y_train[rand_idx]\n",
        "\n",
        "        # Forward pass\n",
        "        y_hat = model(x_batch)\n",
        "        loss = F.cross_entropy(y_hat, y_batch)\n",
        "        losses.append(loss.item())\n",
        "\n",
        "        # Backward pass\n",
        "        for layer in model.layers:\n",
        "            layer.out.retain_grad()\n",
        "        model.zero_grad()\n",
        "        loss.backward()\n",
        "        \n",
        "        # Update the weights\n",
        "        learn_rate = learn_rate if iter < (3 / 4 * n_steps) else learn_rate / 10\n",
        "        for p in model.parameters():\n",
        "            p.data = p.data - learn_rate * p.grad\n",
        "\n",
        "        with torch.no_grad():\n",
        "            ud_iter = []\n",
        "            for p in model.parameters():\n",
        "                ud = (learn_rate * p.grad).std() / p.data.std()\n",
        "                ud = ud.log10().item()\n",
        "                ud_iter.append(ud)\n",
        "\n",
        "            update_vs_data.append(ud_iter)\n",
        "\n",
        "    print(f\"loss (train): {loss.item()}\")\n",
        "\n",
        "    return losses, update_vs_data"
      ],
      "metadata": {
        "id": "Jf3Yhd83ii7U"
      },
      "execution_count": null,
      "outputs": []
    },
    {
      "cell_type": "markdown",
      "source": [
        "**Implement (debug) visualization**"
      ],
      "metadata": {
        "id": "kuA_MxNAiOno"
      }
    },
    {
      "cell_type": "code",
      "source": [
        "def plot_tanh_activations(model):\n",
        "    plt.figure(figsize=(12, 4))\n",
        "    legends = []\n",
        "    for idx, layer in enumerate(model.layers[: -1]):\n",
        "        if isinstance(layer, Tanh):\n",
        "            tanh_act = layer.out\n",
        "\n",
        "            sat_perc = ((tanh_act.abs() > 0.97).float().mean() * 100.0).item()\n",
        "            tanh_act_mean = tanh_act.mean().item()\n",
        "            tanh_act_std = tanh_act.std().item()\n",
        "            layer_name = layer.__class__.__name__\n",
        "            print(f\"layer: {layer_name} \\t mean: {round(tanh_act_mean, 3)} \\t std: {round(tanh_act_std, 3)} \\t sat_perc[%]: {round(sat_perc, 3)}\")\n",
        "            cnts, vals = torch.histogram(tanh_act.to(device=\"cpu\"), density=True)\n",
        "            \n",
        "            # note: `.detach()` returns a new Tensor, detached from the current graph.\n",
        "            # which will never require gradient.\n",
        "            plt.plot(vals[:-1].detach(), cnts.detach())\n",
        "            legends.append(f\"layer: {idx} ({layer_name})\")\n",
        "\n",
        "    plt.legend(legends);\n",
        "    plt.title('distribution of activations for each layer');\n",
        "    plt.show();\n",
        "\n",
        "\n",
        "def plot_tanh_grads(model):\n",
        "    plt.figure(figsize=(12, 4))\n",
        "    legends = []\n",
        "    for idx, layer in enumerate(model.layers[: -1]):\n",
        "        if isinstance(layer, Tanh):\n",
        "            tanh_act_grad = layer.out.grad\n",
        "\n",
        "            tanh_act_mean = tanh_act_grad.mean().item()\n",
        "            tanh_act_std = tanh_act_grad.std().item()\n",
        "            layer_name = layer.__class__.__name__\n",
        "            print(f\"layer: {layer_name} \\t mean: {round(tanh_act_mean, 6)} \\t std: {round(tanh_act_std, 6)} \\t\")\n",
        "            cnts, vals = torch.histogram(tanh_act_grad.to(device=\"cpu\"), density=True)\n",
        "            \n",
        "            # note: `.detach()` returns a new Tensor, detached from the current graph.\n",
        "            # which will never require gradient.\n",
        "            plt.plot(vals[:-1].detach(), cnts.detach())\n",
        "            legends.append(f\"layer: {idx} ({layer_name})\")\n",
        "\n",
        "    plt.legend(legends);\n",
        "    plt.title('distribution of gradients for each layer');\n",
        "    plt.show();\n",
        "\n",
        "def plot_update_vs_data(model, update_vs_data):\n",
        "    plt.figure(figsize=(12, 4))\n",
        "    legends = []\n",
        "\n",
        "    for i, p in enumerate(model.parameters()):\n",
        "        # plot only for weight matrices and not bias terms\n",
        "        if p.ndim == 2:\n",
        "            plt.plot([\n",
        "                update_vs_data[j][i] for j in range(len(update_vs_data))\n",
        "            ])\n",
        "            legends.append('param %d' % i)\n",
        "\n",
        "    # NOTE: these ratios should be ~1e-3, indicate on plot\n",
        "    plt.plot([0, len(ud)], [-3, -3], 'k')\n",
        "    plt.legend(legends);\n",
        "    plt.title(f\"Update vs data over all iters\")\n",
        "    plt.show()"
      ],
      "metadata": {
        "id": "pGw871bviSvU"
      },
      "execution_count": null,
      "outputs": []
    },
    {
      "cell_type": "code",
      "source": [
        "model = MLP()\n",
        "losses, ud = train_model(x_train, y_train, model, \n",
        "                    n_steps=10000, batch_size=32,\n",
        "                    learn_rate=0.1)"
      ],
      "metadata": {
        "colab": {
          "base_uri": "https://localhost:8080/"
        },
        "id": "BjPYnlQtj04o",
        "outputId": "50e4ef7b-0d11-412f-d93c-f883eb871815"
      },
      "execution_count": null,
      "outputs": [
        {
          "output_type": "stream",
          "name": "stderr",
          "text": [
            "100%|██████████| 10000/10000 [00:39<00:00, 250.60it/s]"
          ]
        },
        {
          "output_type": "stream",
          "name": "stdout",
          "text": [
            "loss (train): 2.2621524333953857\n"
          ]
        },
        {
          "output_type": "stream",
          "name": "stderr",
          "text": [
            "\n"
          ]
        }
      ]
    },
    {
      "cell_type": "code",
      "source": [
        "# Check if gradients were retained on the intermediate varibles.\n",
        "for layer in model.layers:\n",
        "    print(layer.out.grad is None)"
      ],
      "metadata": {
        "colab": {
          "base_uri": "https://localhost:8080/"
        },
        "id": "HNgqOum-6dmm",
        "outputId": "ce9c5af0-6da5-483b-f304-9ede5b849ffe"
      },
      "execution_count": null,
      "outputs": [
        {
          "output_type": "stream",
          "name": "stdout",
          "text": [
            "False\n",
            "False\n",
            "False\n",
            "False\n",
            "False\n",
            "False\n",
            "False\n",
            "False\n",
            "False\n"
          ]
        }
      ]
    },
    {
      "cell_type": "code",
      "source": [
        "plot_tanh_activations(model)"
      ],
      "metadata": {
        "colab": {
          "base_uri": "https://localhost:8080/",
          "height": 316
        },
        "id": "SR2q98mhks6D",
        "outputId": "35aa975e-ddf4-4811-b812-80575f434440"
      },
      "execution_count": null,
      "outputs": [
        {
          "output_type": "stream",
          "name": "stdout",
          "text": [
            "layer: Tanh \t mean: 0.009 \t std: 0.66 \t sat_perc[%]: 5.969\n",
            "layer: Tanh \t mean: 0.012 \t std: 0.684 \t sat_perc[%]: 5.406\n"
          ]
        },
        {
          "output_type": "display_data",
          "data": {
            "text/plain": [
              "<Figure size 864x288 with 1 Axes>"
            ],
            "image/png": "[encoded data removed]"
          },
          "metadata": {
            "needs_background": "light"
          }
        }
      ]
    },
    {
      "cell_type": "code",
      "source": [
        "plot_tanh_grads(model);"
      ],
      "metadata": {
        "colab": {
          "base_uri": "https://localhost:8080/",
          "height": 316
        },
        "id": "oiNm0yCKoAxF",
        "outputId": "860232b0-edca-4cba-9ee4-8464f951b3f6"
      },
      "execution_count": null,
      "outputs": [
        {
          "output_type": "stream",
          "name": "stdout",
          "text": [
            "layer: Tanh \t mean: 0.0 \t std: 0.003715 \t\n",
            "layer: Tanh \t mean: 0.0 \t std: 0.003172 \t\n"
          ]
        },
        {
          "output_type": "display_data",
          "data": {
            "text/plain": [
              "<Figure size 864x288 with 1 Axes>"
            ],
            "image/png": "[encoded data removed]"
          },
          "metadata": {
            "needs_background": "light"
          }
        }
      ]
    },
    {
      "cell_type": "code",
      "source": [
        "plot_update_vs_data(model, ud)"
      ],
      "metadata": {
        "colab": {
          "base_uri": "https://localhost:8080/",
          "height": 281
        },
        "id": "H118Qi7Pqilv",
        "outputId": "28a44d9d-8272-49b7-b464-39449c6f2c3e"
      },
      "execution_count": null,
      "outputs": [
        {
          "output_type": "display_data",
          "data": {
            "text/plain": [
              "<Figure size 864x288 with 1 Axes>"
            ],
            "image/png": "[encoded data removed]"
          },
          "metadata": {
            "needs_background": "light"
          }
        }
      ]
    },
    {
      "cell_type": "code",
      "source": [
        "with torch.no_grad():\n",
        "    y_hat = model(x_val)\n",
        "    loss = F.cross_entropy(y_hat, y_val)\n",
        "    print(f\"loss (val): {loss}\")"
      ],
      "metadata": {
        "colab": {
          "base_uri": "https://localhost:8080/"
        },
        "id": "uhWvtPSy6pow",
        "outputId": "1b74109a-d7f6-4058-f599-aa1f5ef27017"
      },
      "execution_count": null,
      "outputs": [
        {
          "output_type": "stream",
          "name": "stdout",
          "text": [
            "loss (val): 2.25907301902771\n"
          ]
        }
      ]
    },
    {
      "cell_type": "markdown",
      "source": [
        "## 1. *I did not get around to seeing what happens when you initialize all weights and biases to zero. Try this and train the neural net. You might think either that 1) the network trains just fine or 2) the network doesn't train at all, but actually it is 3) the network trains but only partially, and achieves a pretty bad final performance. Inspect the gradients and activations to figure out what is happening and why the network is only partially training, and what part is being trained exactly.*"
      ],
      "metadata": {
        "id": "aOcxKpstso1b"
      }
    },
    {
      "cell_type": "markdown",
      "source": [
        "**Init weights and biases as a tensor of zeros**"
      ],
      "metadata": {
        "id": "9L6T6nvDCZS2"
      }
    },
    {
      "cell_type": "code",
      "source": [
        "class Linear:\n",
        "    def __init__(self, in_dim, out_dim, bias=True, device=\"cuda\"):\n",
        "        # Init weights using kaiming approach\n",
        "        scale = 1 / (in_dim ** (0.5))\n",
        "        self.w = torch.zeros((in_dim, out_dim)) * scale\n",
        "        self.b = torch.zeros(out_dim) if bias else None\n",
        "\n",
        "        if device == \"cuda\":\n",
        "            self.w = self.w.to(device=\"cuda\")\n",
        "            if self.b is not None:\n",
        "                self.b = self.b.to(device=\"cuda\")\n",
        "\n",
        "    def __call__(self, x):\n",
        "        self.out = x @ self.w\n",
        "        if self.b is not None:\n",
        "            self.out += self.b\n",
        "        \n",
        "        return self.out\n",
        "\n",
        "    def parameters(self):\n",
        "        params = [self.w] + ([] if self.b is None else [self.b])\n",
        "        return params\n",
        "\n",
        "class Embedding:\n",
        "    def __init__(self, in_dim, out_dim, device=\"cuda\"):\n",
        "        self.c = torch.zeros((in_dim, out_dim))\n",
        "\n",
        "        if device == \"cuda\":\n",
        "            self.c = self.c.to(device=\"cuda\")\n",
        "\n",
        "    def __call__(self, x):\n",
        "        self.out = self.c[x]\n",
        "        return self.out\n",
        "\n",
        "    def parameters(self):\n",
        "        return [self.c]"
      ],
      "metadata": {
        "id": "lvtOsiaMsrYQ"
      },
      "execution_count": null,
      "outputs": []
    },
    {
      "cell_type": "markdown",
      "source": [
        "**Lets get rig of the train function so we can dig deeper.**"
      ],
      "metadata": {
        "id": "1F9YUh-aAeT_"
      }
    },
    {
      "cell_type": "code",
      "source": [
        "from tqdm import tqdm\n",
        "    \n",
        "n_steps=10\n",
        "batch_size=32\n",
        "learn_rate=0.1\n",
        "#################################\n",
        "model_zero = MLP()\n",
        "grads = []\n",
        "#################################\n",
        "\n",
        "losses = []\n",
        "update_vs_data = []\n",
        "\n",
        "for iter in tqdm(range(n_steps)):\n",
        "    # Sample a random batch\n",
        "    rand_idx = torch.randint(0, x_train.shape[0], (batch_size, ))\n",
        "    x_batch, y_batch = x_train[rand_idx], y_train[rand_idx]\n",
        "\n",
        "    # Forward pass\n",
        "    y_hat = model_zero(x_batch)\n",
        "    loss = F.cross_entropy(y_hat, y_batch)\n",
        "    losses.append(loss.item())\n",
        "\n",
        "    # Backward pass\n",
        "    for layer in model_zero.layers:\n",
        "        layer.out.retain_grad()\n",
        "    model_zero.zero_grad()\n",
        "    loss.backward()\n",
        "    \n",
        "    # Update the weights\n",
        "    learn_rate = learn_rate if iter < (3 / 4 * n_steps) else learn_rate / 10\n",
        "    for idx, p in enumerate(model_zero.parameters()):\n",
        "        p.data = p.data - learn_rate * p.grad\n",
        "        if iter == 5:\n",
        "            grads.append((p.grad, idx))\n",
        "\n",
        "    with torch.no_grad():\n",
        "        ud_iter = []\n",
        "        for p in model_zero.parameters():\n",
        "            ud = (learn_rate * p.grad).std() / p.data.std()\n",
        "            ud = ud.log10().item()\n",
        "            ud_iter.append(ud)\n",
        "\n",
        "        update_vs_data.append(ud_iter)\n",
        "\n",
        "print(f\"loss (train): {loss.item()}\")"
      ],
      "metadata": {
        "colab": {
          "base_uri": "https://localhost:8080/"
        },
        "id": "e5hCAZVDAMC4",
        "outputId": "50d8f3af-3b68-4dbf-dde1-7fba309a8a0c"
      },
      "execution_count": null,
      "outputs": [
        {
          "output_type": "stream",
          "name": "stderr",
          "text": [
            "100%|██████████| 10/10 [00:00<00:00, 105.98it/s]"
          ]
        },
        {
          "output_type": "stream",
          "name": "stdout",
          "text": [
            "loss (train): 3.247382402420044\n"
          ]
        },
        {
          "output_type": "stream",
          "name": "stderr",
          "text": [
            "\n"
          ]
        }
      ]
    },
    {
      "cell_type": "code",
      "source": [
        "plt.plot(losses)\n",
        "plt.xlabel(\"iter\")\n",
        "plt.ylabel(\"cross entropy loss\")\n",
        "plt.grid()\n",
        "plt.plot()"
      ],
      "metadata": {
        "colab": {
          "base_uri": "https://localhost:8080/",
          "height": 296
        },
        "id": "O7lPKigrAojg",
        "outputId": "73e13379-928f-49bb-9ad0-25c425ffa522"
      },
      "execution_count": null,
      "outputs": [
        {
          "output_type": "execute_result",
          "data": {
            "text/plain": [
              "[]"
            ]
          },
          "metadata": {},
          "execution_count": 326
        },
        {
          "output_type": "display_data",
          "data": {
            "text/plain": [
              "<Figure size 432x288 with 1 Axes>"
            ],
            "image/png": "[encoded data removed]"
          },
          "metadata": {
            "needs_background": "light"
          }
        }
      ]
    },
    {
      "cell_type": "code",
      "source": [
        "# Check if gradients were retained on the intermediate varibles.\n",
        "for layer in model.layers:\n",
        "    print(layer.out.grad is None)"
      ],
      "metadata": {
        "colab": {
          "base_uri": "https://localhost:8080/"
        },
        "id": "q5JVnJeg7pcW",
        "outputId": "f974e444-5ffd-429a-bb97-23cf6af21ee1"
      },
      "execution_count": null,
      "outputs": [
        {
          "output_type": "stream",
          "name": "stdout",
          "text": [
            "True\n",
            "True\n",
            "True\n",
            "True\n",
            "True\n",
            "True\n",
            "True\n",
            "True\n",
            "True\n"
          ]
        }
      ]
    },
    {
      "cell_type": "code",
      "source": [
        "plot_tanh_activations(model_zero)"
      ],
      "metadata": {
        "colab": {
          "base_uri": "https://localhost:8080/",
          "height": 316
        },
        "id": "FIc5yaN_7pTU",
        "outputId": "e9b4c3dc-6fbe-414b-f9a5-70ba174abb63"
      },
      "execution_count": null,
      "outputs": [
        {
          "output_type": "stream",
          "name": "stdout",
          "text": [
            "layer: Tanh \t mean: 0.0 \t std: 0.0 \t sat_perc[%]: 0.0\n",
            "layer: Tanh \t mean: 0.0 \t std: 0.0 \t sat_perc[%]: 0.0\n"
          ]
        },
        {
          "output_type": "display_data",
          "data": {
            "text/plain": [
              "<Figure size 864x288 with 1 Axes>"
            ],
            "image/png": "[encoded data removed]"
          },
          "metadata": {
            "needs_background": "light"
          }
        }
      ]
    },
    {
      "cell_type": "code",
      "source": [
        "plot_tanh_grads(model_zero);"
      ],
      "metadata": {
        "colab": {
          "base_uri": "https://localhost:8080/",
          "height": 316
        },
        "id": "Vfwj9QyQ7pJj",
        "outputId": "867a6b91-fe45-4167-b6f6-fd23688f5ca0"
      },
      "execution_count": null,
      "outputs": [
        {
          "output_type": "stream",
          "name": "stdout",
          "text": [
            "layer: Tanh \t mean: 0.0 \t std: 0.0 \t\n",
            "layer: Tanh \t mean: 0.0 \t std: 0.0 \t\n"
          ]
        },
        {
          "output_type": "display_data",
          "data": {
            "text/plain": [
              "<Figure size 864x288 with 1 Axes>"
            ],
            "image/png": "[encoded data removed]"
          },
          "metadata": {
            "needs_background": "light"
          }
        }
      ]
    },
    {
      "cell_type": "markdown",
      "source": [
        "**Comment**: we get no training in the first and second. Meaning that gradients get computed at the loss function level, but only a fraction of the gradients is backpropagated to the last layer, where as no gradients are propaget to first and second layer, therefore the network can't learn (well)"
      ],
      "metadata": {
        "id": "F_Z9F5bl-v0d"
      }
    },
    {
      "cell_type": "code",
      "source": [
        "plt.figure(figsize=(12, 4))\n",
        "c = model_zero.layers[0].c\n",
        "w1, b1 = model_zero.layers[1].w, model_zero.layers[2].bias\n",
        "h = torch.tanh(c[x_batch].view(-1, n_embed * block_size) @ w1 + b1)\n",
        "h = h.to(device=\"cpu\")\n",
        "h.shape\n",
        "\n",
        "plt.imshow(h.abs() > 0.01, cmap=\"gray\", interpolation=\"nearest\");\n",
        "\n",
        "\n",
        "plt.figure(figsize=(12, 4))\n",
        "c = model_zero.layers[0].c\n",
        "w1, b1 = model_zero.layers[1].w, model_zero.layers[2].bias\n",
        "h1 = torch.tanh(c[x_batch].view(-1, n_embed * block_size) @ w1 + b1)\n",
        "w2, b2 = model_zero.layers[4].w, model_zero.layers[5].bias\n",
        "h2 = torch.tanh(h1 @ w2 + b2)\n",
        "h2 = h2.to(device=\"cpu\")\n",
        "\n",
        "plt.imshow(h2.abs() > 0.01, cmap=\"gray\", interpolation=\"nearest\");\n",
        "\n",
        "plt.figure(figsize=(12, 4))\n",
        "c = model_zero.layers[0].c\n",
        "w1, b1 = model_zero.layers[1].w, model_zero.layers[2].bias\n",
        "h1 = torch.tanh(c[x_batch].view(-1, n_embed * block_size) @ w1 + b1)\n",
        "w2, b2 = model_zero.layers[4].w, model_zero.layers[5].bias\n",
        "h2 = torch.tanh(h1 @ w2 + b2)\n",
        "w3, b3 = model_zero.layers[7].w, model_zero.layers[8].bias\n",
        "h3 = h2 @ w3 + b3\n",
        "h3 = h3.to(device=\"cpu\")\n",
        "\n",
        "plt.imshow(h3.abs() > 0.01, cmap=\"gray\", interpolation=\"nearest\");"
      ],
      "metadata": {
        "colab": {
          "base_uri": "https://localhost:8080/",
          "height": 758
        },
        "id": "_IfvpuBC8uh4",
        "outputId": "24325ca0-091a-4ada-f6b9-9116d2eab54d"
      },
      "execution_count": null,
      "outputs": [
        {
          "output_type": "display_data",
          "data": {
            "text/plain": [
              "<Figure size 864x288 with 1 Axes>"
            ],
            "image/png": "[encoded data removed]"
          },
          "metadata": {
            "needs_background": "light"
          }
        },
        {
          "output_type": "display_data",
          "data": {
            "text/plain": [
              "<Figure size 864x288 with 1 Axes>"
            ],
            "image/png": "[encoded data removed]"
          },
          "metadata": {
            "needs_background": "light"
          }
        },
        {
          "output_type": "display_data",
          "data": {
            "text/plain": [
              "<Figure size 864x288 with 1 Axes>"
            ],
            "image/png": "[encoded data removed]"
          },
          "metadata": {
            "needs_background": "light"
          }
        }
      ]
    },
    {
      "cell_type": "markdown",
      "source": [
        "We see that after only $10$ we only have one parameter with grad non equal to zero, this is the final batch normalization layer. If we let this network train longer it wouldn't get much better."
      ],
      "metadata": {
        "id": "kSWyI3FkERh-"
      }
    },
    {
      "cell_type": "code",
      "source": [
        "for g in grads:\n",
        "    if g[0].sum() > 0.0:\n",
        "        print(f\"non zero grad: {g[0]}\")\n",
        "        print(f\"param index of non zero grad: {g[1]} / {len(model_zero.parameters())}\")"
      ],
      "metadata": {
        "colab": {
          "base_uri": "https://localhost:8080/"
        },
        "id": "ARDtFKo4CKKB",
        "outputId": "8d8cebe3-04a2-4e98-98c5-dd0b1779afb1"
      },
      "execution_count": null,
      "outputs": [
        {
          "output_type": "stream",
          "name": "stdout",
          "text": [
            "non zero grad: tensor([-0.1482, -0.1167,  0.0364,  0.0367,  0.0056, -0.0868,  0.0364,  0.0364,\n",
            "         0.0368, -0.0249,  0.0051,  0.0367, -0.0874,  0.0368, -0.1182,  0.0372,\n",
            "         0.0364,  0.0364,  0.0369,  0.0054,  0.0057,  0.0052,  0.0365,  0.0364,\n",
            "         0.0364,  0.0064,  0.0368], device='cuda:0')\n",
            "param index of non zero grad: 9 / 10\n"
          ]
        }
      ]
    },
    {
      "cell_type": "markdown",
      "source": [
        "**Final comment**: During the forward pass the y_hat vector always sums up to roughly zero, i.e we get no activations, this results in a roughly uniform distributuon of probabilities (this is computed internaly in the cross_entropy function), which gives us some, loss. This small loss is than backprogated through the network (it seems liek some of it updates the weights in the last batch norm layer, but the reast of the weights of the network seem to stay at zero, therefore we get no activation elsewhere), but doesn't change the weights enough."
      ],
      "metadata": {
        "id": "Rh48UNeuHLf4"
      }
    },
    {
      "cell_type": "markdown",
      "source": [
        "## 2. *BatchNorm, unlike other normalization layers like LayerNorm/GroupNorm etc. has the big advantage that after training, the batchnorm gamma/beta can be \"folded into\" the weights of the preceeding Linear layers, effectively erasing the need to forward it at test time. Set up a small 3-layer MLP with batchnorms, train the network, then \"fold\" the batchnorm gamma/beta into the preceeding Linear layer's W,b by creating a new W2, b2 and erasing the batch norm. Verify that this gives the same forward pass during inference. i.e. we see that the batchnorm is there just for stabilizing the training, and can be thrown out after training is done! pretty cool.*"
      ],
      "metadata": {
        "id": "IDKo_QTZsruI"
      }
    },
    {
      "cell_type": "markdown",
      "source": [
        "**Init the old layers**"
      ],
      "metadata": {
        "id": "_rSx80cLJIiD"
      }
    },
    {
      "cell_type": "code",
      "source": [
        "class Linear:\n",
        "    def __init__(self, fan_in, fan_out, bias=True):\n",
        "        # Init weights and apply Kaiming initialization\n",
        "        self.weight = torch.randn((fan_in, fan_out), generator=g) / fan_in ** (0.5)\n",
        "        self.bias = torch.zeros(fan_out) if bias else None\n",
        "\n",
        "    def __call__(self, x):\n",
        "        self.out = x @ self.weight\n",
        "        if self.bias is not None:\n",
        "            self.out += self.bias\n",
        "        return self.out\n",
        "\n",
        "    def parameters(self):\n",
        "        return [self.weight] + ([] if self.bias is None else [self.bias])\n",
        "\n",
        "class BatchNorm1d:\n",
        "    def __init__(self, dim, momentum=0.1, eps=1e-5):\n",
        "        self.eps = eps\n",
        "        self.momentum = momentum\n",
        "        self.training = True\n",
        "\n",
        "        # Init params trained with backprop\n",
        "        self.gamma = torch.ones(dim)\n",
        "        self.beta = torch.zeros(dim)\n",
        "\n",
        "        # Init global params (running average params)\n",
        "        # called \"buffers\" in PyTorch\n",
        "        self.running_mean = torch.zeros(dim)\n",
        "        self.running_var = torch.ones(dim)\n",
        "\n",
        "    def __call__(self, x):\n",
        "        # Forward pass\n",
        "        if self.training:\n",
        "            x_mean = x.mean(0, keepdim=True)\n",
        "            x_var = x.var(0, keepdim=True)\n",
        "        else:\n",
        "            x_mean = self.running_mean\n",
        "            # note that this time we are using var = std^2\n",
        "            x_var = self.running_var \n",
        "\n",
        "        # Normalize the pre-activations\n",
        "        x_hat = (x - x_mean) / torch.sqrt(x_var + self.eps)\n",
        "        self.out = self.gamma * x_hat + self.beta\n",
        "\n",
        "        # Update the running mean and var\n",
        "        if self.training:\n",
        "            with torch.no_grad():\n",
        "                self.running_mean = (1 - self.momentum) * self.running_mean + self.momentum * x_mean\n",
        "                self.running_var = (1 - self.momentum) * self.running_var + self.momentum * x_var\n",
        "\n",
        "        return self.out\n",
        "\n",
        "    def parameters(self):\n",
        "        return [self.gamma, self.beta]\n",
        "\n",
        "class Tanh:\n",
        "    def __call__(self, x):\n",
        "        self.out = torch.tanh(x)\n",
        "        return self.out\n",
        "\n",
        "    def parameters(self):\n",
        "        return []"
      ],
      "metadata": {
        "id": "nFsVfbKCRvN3"
      },
      "execution_count": 627,
      "outputs": []
    },
    {
      "cell_type": "markdown",
      "source": [
        "**This time we won't work with the MLP class, since we wan't to have low level access to variables**"
      ],
      "metadata": {
        "id": "lu_K0JU3SMMQ"
      }
    },
    {
      "cell_type": "code",
      "source": [
        "# compute random indices.\n",
        "m = len(x)\n",
        "\n",
        "rand_idxs = torch.randperm(m)\n",
        "# shuffle the data.\n",
        "x = x[rand_idxs]\n",
        "y = y[rand_idxs]\n",
        "n1 = int(0.8 * m)\n",
        "n2 = int(0.9 * m)\n",
        "\n",
        "x_train = x[:n1]\n",
        "y_train = y[:n1]\n",
        "x_val = x[n1:n2]\n",
        "y_val = y[n1:n2]\n",
        "x_test = x[n2:]\n",
        "y_test = y[n2:]\n",
        "\n",
        "\n",
        "x_train = x_train.to(device=\"cpu\")\n",
        "y_train = y_train.to(device=\"cpu\")\n",
        "x_val = x_val.to(device=\"cpu\")\n",
        "y_val = y_val.to(device=\"cpu\")\n",
        "x_test = x_test.to(device=\"cpu\")\n",
        "y_test = y_test.to(device=\"cpu\")"
      ],
      "metadata": {
        "id": "B4Yo2dtjSoOr"
      },
      "execution_count": 628,
      "outputs": []
    },
    {
      "cell_type": "code",
      "source": [
        "def create_net(weight_gain = 5 / 3):\n",
        "    n_embed = 10 # the dimensionality of the character embedding vectors\n",
        "    n_hidden = 100 # the number of neurons in the hidden layer of the MLP\n",
        "    vocab_size = 27\n",
        "\n",
        "    g = torch.Generator().manual_seed(2147483647) # for reproducibility\n",
        "    c = torch.randn((vocab_size, n_embed), generator=g)\n",
        "    \n",
        "    # Place batch norm after linear layer and before nonlinearity.\n",
        "    layers = [\n",
        "    Linear(n_embed * block_size, n_hidden, bias=False), BatchNorm1d(n_hidden), Tanh(),\n",
        "    Linear(           n_hidden, n_hidden, bias=False), BatchNorm1d(n_hidden), Tanh(),\n",
        "    Linear(           n_hidden, vocab_size, bias=False), BatchNorm1d(vocab_size),\n",
        "    ]\n",
        "\n",
        "    with torch.no_grad():\n",
        "        # last layer: make less confident\n",
        "        layers[-1].gamma *= 0.1\n",
        "        #layers[-1].weight *= 0.1\n",
        "        # all other layers: apply gain\n",
        "        for layer in layers[:-1]:\n",
        "            if isinstance(layer, Linear):\n",
        "                layer.weight *= 1.0 #5/3\n",
        "\n",
        "    params = [c] + [p for layer in layers for p in layer.parameters()]\n",
        "    print(f\"num params: {sum(p.nelement() for p in params)}\")\n",
        "    for p in params:\n",
        "        p.requires_grad = True\n",
        "\n",
        "    return c, layers, params"
      ],
      "metadata": {
        "id": "rhPtkOYaSTA4"
      },
      "execution_count": 629,
      "outputs": []
    },
    {
      "cell_type": "code",
      "source": [
        "c, layers, params = create_net()"
      ],
      "metadata": {
        "colab": {
          "base_uri": "https://localhost:8080/"
        },
        "id": "1zz79dm9STzV",
        "outputId": "bf7438ab-c2ff-494d-833e-fec876ee0413"
      },
      "execution_count": 630,
      "outputs": [
        {
          "output_type": "stream",
          "name": "stdout",
          "text": [
            "num params: 16424\n"
          ]
        }
      ]
    },
    {
      "cell_type": "code",
      "source": [
        "def train_net(c, layer, params):\n",
        "    # same optimization as last time\n",
        "    max_steps = 10000\n",
        "    batch_size = 32\n",
        "    lossi = []\n",
        "    ud = []\n",
        "\n",
        "    for i in tqdm(range(max_steps)):\n",
        "        # minibatch construct\n",
        "        ix = torch.randint(0, x_train.shape[0], (batch_size,), generator=g)\n",
        "        Xb, Yb = x_train[ix], y_train[ix] # batch X,Y\n",
        "\n",
        "        # forward pass\n",
        "        emb = c[Xb] # embed the characters into vectors\n",
        "        x = emb.view(emb.shape[0], -1) # concatenate the vectors\n",
        "        for layer in layers:\n",
        "            x = layer(x)\n",
        "        loss = F.cross_entropy(x, Yb) # loss function\n",
        "\n",
        "        # backward pass\n",
        "        for layer in layers:\n",
        "            layer.out.retain_grad() # AFTER_DEBUG: would take out retain_graph\n",
        "        for p in params:\n",
        "            p.grad = None\n",
        "        loss.backward()\n",
        "\n",
        "        # update\n",
        "        lr = 0.1 if i < 150000 else 0.01 # step learning rate decay\n",
        "        for p in params:\n",
        "            p.data += -lr * p.grad\n",
        "\n",
        "        lossi.append(loss.log10().item())\n",
        "        with torch.no_grad():\n",
        "            ud.append([((lr*p.grad).std() / p.data.std()).log10().item() for p in params])\n",
        "\n",
        "    return ud"
      ],
      "metadata": {
        "id": "9izRAu_HSaCu"
      },
      "execution_count": 631,
      "outputs": []
    },
    {
      "cell_type": "code",
      "source": [
        "train_net(c, layer, params)"
      ],
      "metadata": {
        "id": "sEyHyyCdSck9"
      },
      "execution_count": null,
      "outputs": []
    },
    {
      "cell_type": "code",
      "source": [
        "@torch.no_grad() # this decorator disables gradient tracking\n",
        "def split_loss(split):\n",
        "  x,y = {\n",
        "    'train': (x_train, y_train),\n",
        "    'val': (x_val, y_val),\n",
        "    'test': (x_test, y_test),\n",
        "  }[split]\n",
        "  emb = c[x] # (N, block_size, n_embd)\n",
        "  x = emb.view(emb.shape[0], -1) # concat into (N, block_size * n_embd)\n",
        "  for layer in layers:\n",
        "    x = layer(x)\n",
        "  loss = F.cross_entropy(x, y)\n",
        "  print(split, loss.item())\n",
        "\n",
        "# put layers into eval mode\n",
        "for layer in layers:\n",
        "  layer.training = False\n",
        "split_loss('train')\n",
        "split_loss('val')"
      ],
      "metadata": {
        "colab": {
          "base_uri": "https://localhost:8080/"
        },
        "id": "yVDbM1oSTCfB",
        "outputId": "51328be7-dd87-4de9-c9b3-a4e3fbb30ece"
      },
      "execution_count": null,
      "outputs": [
        {
          "output_type": "stream",
          "name": "stdout",
          "text": [
            "train 2.216109275817871\n",
            "val 2.2396609783172607\n"
          ]
        }
      ]
    },
    {
      "cell_type": "markdown",
      "source": [
        "**Fold in the batch norm parts**"
      ],
      "metadata": {
        "id": "sxxF0PnCSvaH"
      }
    },
    {
      "cell_type": "markdown",
      "source": [
        "In order to fold the gamma, beta, running mean and running var into previous weights we should perform the following:\n",
        "\n",
        "Output of the $i$th linear layer is:\n",
        "\n",
        "$\\hat{y} = w x$\n",
        "\n",
        "Output of the $i + 1$th batch norm layer is:\n",
        "\n",
        "$\\gamma \\frac{\\hat{y} - \\overline{\\hat{y}}}{\\sqrt{Var(\\hat{y})}} + \\beta$,\n",
        "\n",
        "We can rewrite this equation as follows:\n",
        "\n",
        "$\\gamma \\frac{\\hat{y}}{\\sqrt{Var(\\hat{y})}} + ( -\\frac{\\overline{\\hat{y}}}{\\sqrt{Var(\\hat{y})}} + \\beta)$\n",
        "\n",
        "Now plugging in the $i$th layer weight $w$ we get:\n",
        "\n",
        "$\\gamma \\frac{w x}{\\sqrt{Var(\\hat{y})}} + ( -\\frac{\\overline{\\hat{y}}}{\\sqrt{Var(\\hat{y})}} + \\beta)$\n",
        "\n",
        "Finally lets explicitly state the weight of the $i$th layer ($w_i$) and the bias of the $i$th layer ($b_i$), by taking into account the parameters of the $i + 1$th batch norm layer:\n",
        "\n",
        "$w_i = \\gamma \\frac{w}{\\sqrt{Var(\\hat{y})}} $\n",
        "\n",
        "$b_i = -\\frac{\\overline{\\hat{y}}}{\\sqrt{Var(\\hat{y})}} + \\beta$"
      ],
      "metadata": {
        "id": "0MB-xV7Mj-3y"
      }
    },
    {
      "cell_type": "code",
      "source": [
        "with torch.no_grad():\n",
        "    layers[0].weight *= (layers[1].gamma / torch.sqrt(layers[1].running_var))\n",
        "    layers[3].weight *= (layers[4].gamma / torch.sqrt(layers[4].running_var))\n",
        "    layers[6].weight *= (layers[7].gamma / torch.sqrt(layers[7].running_var))\n",
        "    layers[0].bias = - ((layers[1].gamma * layers[1].running_mean) / torch.sqrt(layers[1].running_var)) + layers[1].beta\n",
        "    layers[3].bias = - ((layers[4].gamma * layers[4].running_mean) / torch.sqrt(layers[4].running_var)) + layers[4].beta\n",
        "    layers[6].bias = - ((layers[7].gamma * layers[7].running_mean) / torch.sqrt(layers[7].running_var)) + layers[7].beta"
      ],
      "metadata": {
        "id": "9sVjrP9sV1k9"
      },
      "execution_count": 633,
      "outputs": []
    },
    {
      "cell_type": "code",
      "source": [
        "new_layers = []\n",
        "\n",
        "for layer in layers:\n",
        "    if not isinstance(layer, BatchNorm1d):\n",
        "        new_layers.append(layer)\n",
        "\n",
        "for layer in new_layers:\n",
        "    print(layer.__class__.__name__)"
      ],
      "metadata": {
        "colab": {
          "base_uri": "https://localhost:8080/"
        },
        "id": "pSpRFIJrdRAe",
        "outputId": "fb8e31a7-4475-4476-f158-3e16328b9e27"
      },
      "execution_count": 634,
      "outputs": [
        {
          "output_type": "stream",
          "name": "stdout",
          "text": [
            "Linear\n",
            "Tanh\n",
            "Linear\n",
            "Tanh\n",
            "Linear\n"
          ]
        }
      ]
    },
    {
      "cell_type": "code",
      "source": [
        "@torch.no_grad() # this decorator disables gradient tracking\n",
        "def split_loss(split):\n",
        "  x,y = {\n",
        "    'train': (x_train, y_train),\n",
        "    'val': (x_val, y_val),\n",
        "    'test': (x_test, y_test),\n",
        "  }[split]\n",
        "  emb = c[x] # (N, block_size, n_embd)\n",
        "  x = emb.view(emb.shape[0], -1) # concat into (N, block_size * n_embd)\n",
        "  for new_layer in new_layers:\n",
        "    x = new_layer(x)\n",
        "\n",
        "  loss = F.cross_entropy(x, y)\n",
        "  print(split, loss.item())\n",
        "\n",
        "split_loss('val')"
      ],
      "metadata": {
        "colab": {
          "base_uri": "https://localhost:8080/"
        },
        "id": "HbUn-JuvWT_Z",
        "outputId": "a4651db3-4acd-42c4-e8a5-a8b72693d29e"
      },
      "execution_count": 636,
      "outputs": [
        {
          "output_type": "stream",
          "name": "stdout",
          "text": [
            "val 2.2375786304473877\n"
          ]
        }
      ]
    },
    {
      "cell_type": "markdown",
      "source": [
        "**Comment**: Yeaayy we get the sameresult 😀"
      ],
      "metadata": {
        "id": "nPYjfOxdl1OV"
      }
    }
  ]
}